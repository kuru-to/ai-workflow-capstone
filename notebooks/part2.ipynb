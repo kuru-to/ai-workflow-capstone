{
 "cells": [
  {
   "cell_type": "markdown",
   "metadata": {},
   "source": [
    "# Part 2"
   ]
  },
  {
   "cell_type": "markdown",
   "metadata": {},
   "source": [
    "## やること"
   ]
  },
  {
   "cell_type": "markdown",
   "metadata": {},
   "source": [
    "1. State the different modeling approaches that you will compare to address the business opportunity.（ビジネスチャンスに対処するために比較するさまざまなモデリングアプローチを説明します。）\n",
    "2. Iterate on your suite of possible models by modifying data transformations, pipeline architectures, hyperparameters and other relevant factors.（データ変換、パイプラインアーキテクチャ、ハイパーパラメータ、およびその他の関連する要素を変更することにより、可能なモデルのスイートを反復処理します。）\n",
    "3. Re-train your model on all of the data using the selected approach and prepare it for deployment.（選択したアプローチを使用して、すべてのデータでモデルを再トレーニングし、展開の準備をします。）\n",
    "4. Articulate your findings in a summary report.（要約レポートで調査結果を明確にします。）"
   ]
  },
  {
   "cell_type": "markdown",
   "metadata": {},
   "source": [
    "## Our Story"
   ]
  },
  {
   "cell_type": "markdown",
   "metadata": {},
   "source": [
    "The business opportunity has been defined and you have come to an agreement with leadership with respect to appropriate wording and testable hypotheses. This part of the case study will focus on the next two stages in the enterprise workflow, namely data transformations and models. This part of the workflow will be treated slightly differently than previous case studies as these are time-series data, but the general procedure and best practices remain the same. These materials will provide the necessary guidance so that you can apply one of the supervised learning approaches that we have already discussed. However, you will also be encouraged to explore some of the time-series modeling tools available."
   ]
  },
  {
   "cell_type": "markdown",
   "metadata": {},
   "source": [
    "### 和訳"
   ]
  },
  {
   "cell_type": "markdown",
   "metadata": {},
   "source": [
    "ビジネスチャンスが定義され、適切な表現と検証可能な仮説に関してリーダーシップと合意に達しました。 ケーススタディのこの部分では、エンタープライズワークフローの次の2つの段階、つまりデータ変換とモデルに焦点を当てます。 ワークフローのこの部分は、時系列データであるため、以前のケーススタディとは少し異なる方法で処理されますが、一般的な手順とベストプラクティスは同じままです。 これらの資料は、すでに説明した教師あり学習アプローチの1つを適用できるように、必要なガイダンスを提供します。 ただし、利用可能な時系列モデリングツールのいくつかを調べることもお勧めします。"
   ]
  },
  {
   "cell_type": "markdown",
   "metadata": {},
   "source": [
    "## Hands On 説明"
   ]
  },
  {
   "cell_type": "markdown",
   "metadata": {},
   "source": [
    "Time-series data are commonly encountered in data science. In particular, the field of finance, signal processing, weather and other fields regularly deal with data formatted in this way. The goal of this case study is time-series forecasting, which can be thought of as the use of a model to predict future values based on previously observed values. So we could try to predict purchases, number of views or the feature most closely related to our business opportunity, revenue."
   ]
  },
  {
   "cell_type": "markdown",
   "metadata": {},
   "source": [
    "### 和訳"
   ]
  },
  {
   "cell_type": "markdown",
   "metadata": {},
   "source": [
    "時系列データは、データサイエンスでよく見られます。 特に、金融、信号処理、気象などの分野では、このようにフォーマットされたデータを定期的に扱っています。 このケーススタディの目標は時系列予測です。これは、以前に観測された値に基づいて将来の値を予測するためのモデルの使用と考えることができます。 そのため、購入、視聴回数、またはビジネスチャンス、収益に最も密接に関連する機能を予測することができます。"
   ]
  },
  {
   "cell_type": "markdown",
   "metadata": {},
   "source": [
    "## import packages"
   ]
  },
  {
   "cell_type": "code",
   "execution_count": 1,
   "metadata": {},
   "outputs": [],
   "source": [
    "import sys\n",
    "sys.path.append(\"../solution-guidance/\")\n",
    "import cslib\n",
    "# import model"
   ]
  },
  {
   "cell_type": "code",
   "execution_count": 3,
   "metadata": {},
   "outputs": [],
   "source": [
    "import pandas as pd\n",
    "import matplotlib.pyplot as plt\n",
    "import sklearn"
   ]
  },
  {
   "cell_type": "markdown",
   "metadata": {},
   "source": [
    "## parameter settings"
   ]
  },
  {
   "cell_type": "code",
   "execution_count": 4,
   "metadata": {},
   "outputs": [],
   "source": [
    "path_data = \"../data/\"\n",
    "path_data_production = path_data + \"cs-production/\"\n",
    "path_data_train = path_data + \"cs-train/\""
   ]
  },
  {
   "cell_type": "code",
   "execution_count": 5,
   "metadata": {},
   "outputs": [],
   "source": [
    "# 予測の対象とする国. 今回はuk\n",
    "name_target_country = \"united_kingdom\""
   ]
  },
  {
   "cell_type": "markdown",
   "metadata": {},
   "source": [
    "## 問題と回答 "
   ]
  },
  {
   "cell_type": "markdown",
   "metadata": {},
   "source": [
    "### 1.State the different modeling approaches that you will compare to address the business opportunity.（ビジネスチャンスに対処するために比較するさまざまなモデリングアプローチを説明します。）"
   ]
  },
  {
   "cell_type": "markdown",
   "metadata": {},
   "source": [
    "#### 回答"
   ]
  },
  {
   "cell_type": "markdown",
   "metadata": {},
   "source": [
    "- 時系列回帰\n",
    "- ランダムフォレスト, 勾配ぶースティング\n",
    "- ガウス過程"
   ]
  },
  {
   "cell_type": "markdown",
   "metadata": {},
   "source": [
    "### 2.Iterate on your suite of possible models by modifying data transformations, pipeline architectures, hyperparameters and other relevant factors.（データ変換、パイプラインアーキテクチャ、ハイパーパラメータ、およびその他の関連する要素を変更することにより、可能なモデルのスイートを反復処理します。）"
   ]
  },
  {
   "cell_type": "markdown",
   "metadata": {},
   "source": [
    "#### データ変換"
   ]
  },
  {
   "cell_type": "code",
   "execution_count": 6,
   "metadata": {},
   "outputs": [
    {
     "name": "stdout",
     "output_type": "stream",
     "text": [
      "... loading ts data from files\n"
     ]
    }
   ],
   "source": [
    "# 時系列にしたDataFrameを国ごとの辞書にする\n",
    "dct_df_train = cslib.fetch_ts(path_data_train)"
   ]
  },
  {
   "cell_type": "code",
   "execution_count": 7,
   "metadata": {},
   "outputs": [],
   "source": [
    "# 特徴量の作成\n",
    "# 対象の日付は 2017/11/29 ~ 2019/5/31 （計549日）となる\n",
    "df_features, y, dates = cslib.engineer_features(dct_df_train[name_target_country])"
   ]
  },
  {
   "cell_type": "code",
   "execution_count": 8,
   "metadata": {},
   "outputs": [
    {
     "data": {
      "text/html": [
       "<div>\n",
       "<style scoped>\n",
       "    .dataframe tbody tr th:only-of-type {\n",
       "        vertical-align: middle;\n",
       "    }\n",
       "\n",
       "    .dataframe tbody tr th {\n",
       "        vertical-align: top;\n",
       "    }\n",
       "\n",
       "    .dataframe thead th {\n",
       "        text-align: right;\n",
       "    }\n",
       "</style>\n",
       "<table border=\"1\" class=\"dataframe\">\n",
       "  <thead>\n",
       "    <tr style=\"text-align: right;\">\n",
       "      <th></th>\n",
       "      <th>date</th>\n",
       "      <th>purchases</th>\n",
       "      <th>unique_invoices</th>\n",
       "      <th>unique_streams</th>\n",
       "      <th>total_views</th>\n",
       "      <th>year_month</th>\n",
       "      <th>revenue</th>\n",
       "    </tr>\n",
       "  </thead>\n",
       "  <tbody>\n",
       "    <tr>\n",
       "      <th>0</th>\n",
       "      <td>2017-11-01</td>\n",
       "      <td>0</td>\n",
       "      <td>0</td>\n",
       "      <td>0</td>\n",
       "      <td>0</td>\n",
       "      <td>2017-11</td>\n",
       "      <td>0.00</td>\n",
       "    </tr>\n",
       "    <tr>\n",
       "      <th>1</th>\n",
       "      <td>2017-11-02</td>\n",
       "      <td>0</td>\n",
       "      <td>0</td>\n",
       "      <td>0</td>\n",
       "      <td>0</td>\n",
       "      <td>2017-11</td>\n",
       "      <td>0.00</td>\n",
       "    </tr>\n",
       "    <tr>\n",
       "      <th>2</th>\n",
       "      <td>2017-11-03</td>\n",
       "      <td>0</td>\n",
       "      <td>0</td>\n",
       "      <td>0</td>\n",
       "      <td>0</td>\n",
       "      <td>2017-11</td>\n",
       "      <td>0.00</td>\n",
       "    </tr>\n",
       "    <tr>\n",
       "      <th>3</th>\n",
       "      <td>2017-11-04</td>\n",
       "      <td>0</td>\n",
       "      <td>0</td>\n",
       "      <td>0</td>\n",
       "      <td>0</td>\n",
       "      <td>2017-11</td>\n",
       "      <td>0.00</td>\n",
       "    </tr>\n",
       "    <tr>\n",
       "      <th>4</th>\n",
       "      <td>2017-11-05</td>\n",
       "      <td>0</td>\n",
       "      <td>0</td>\n",
       "      <td>0</td>\n",
       "      <td>0</td>\n",
       "      <td>2017-11</td>\n",
       "      <td>0.00</td>\n",
       "    </tr>\n",
       "    <tr>\n",
       "      <th>...</th>\n",
       "      <td>...</td>\n",
       "      <td>...</td>\n",
       "      <td>...</td>\n",
       "      <td>...</td>\n",
       "      <td>...</td>\n",
       "      <td>...</td>\n",
       "      <td>...</td>\n",
       "    </tr>\n",
       "    <tr>\n",
       "      <th>602</th>\n",
       "      <td>2019-06-26</td>\n",
       "      <td>1274</td>\n",
       "      <td>62</td>\n",
       "      <td>965</td>\n",
       "      <td>5702</td>\n",
       "      <td>2019-06</td>\n",
       "      <td>4611.00</td>\n",
       "    </tr>\n",
       "    <tr>\n",
       "      <th>603</th>\n",
       "      <td>2019-06-27</td>\n",
       "      <td>1487</td>\n",
       "      <td>72</td>\n",
       "      <td>897</td>\n",
       "      <td>8230</td>\n",
       "      <td>2019-06</td>\n",
       "      <td>5128.02</td>\n",
       "    </tr>\n",
       "    <tr>\n",
       "      <th>604</th>\n",
       "      <td>2019-06-28</td>\n",
       "      <td>923</td>\n",
       "      <td>62</td>\n",
       "      <td>565</td>\n",
       "      <td>4674</td>\n",
       "      <td>2019-06</td>\n",
       "      <td>3096.20</td>\n",
       "    </tr>\n",
       "    <tr>\n",
       "      <th>605</th>\n",
       "      <td>2019-06-29</td>\n",
       "      <td>0</td>\n",
       "      <td>0</td>\n",
       "      <td>0</td>\n",
       "      <td>0</td>\n",
       "      <td>2019-06</td>\n",
       "      <td>0.00</td>\n",
       "    </tr>\n",
       "    <tr>\n",
       "      <th>606</th>\n",
       "      <td>2019-06-30</td>\n",
       "      <td>602</td>\n",
       "      <td>27</td>\n",
       "      <td>423</td>\n",
       "      <td>2534</td>\n",
       "      <td>2019-06</td>\n",
       "      <td>1793.98</td>\n",
       "    </tr>\n",
       "  </tbody>\n",
       "</table>\n",
       "<p>607 rows × 7 columns</p>\n",
       "</div>"
      ],
      "text/plain": [
       "           date  purchases  unique_invoices  unique_streams  total_views  \\\n",
       "0    2017-11-01          0                0               0            0   \n",
       "1    2017-11-02          0                0               0            0   \n",
       "2    2017-11-03          0                0               0            0   \n",
       "3    2017-11-04          0                0               0            0   \n",
       "4    2017-11-05          0                0               0            0   \n",
       "..          ...        ...              ...             ...          ...   \n",
       "602  2019-06-26       1274               62             965         5702   \n",
       "603  2019-06-27       1487               72             897         8230   \n",
       "604  2019-06-28        923               62             565         4674   \n",
       "605  2019-06-29          0                0               0            0   \n",
       "606  2019-06-30        602               27             423         2534   \n",
       "\n",
       "    year_month  revenue  \n",
       "0      2017-11     0.00  \n",
       "1      2017-11     0.00  \n",
       "2      2017-11     0.00  \n",
       "3      2017-11     0.00  \n",
       "4      2017-11     0.00  \n",
       "..         ...      ...  \n",
       "602    2019-06  4611.00  \n",
       "603    2019-06  5128.02  \n",
       "604    2019-06  3096.20  \n",
       "605    2019-06     0.00  \n",
       "606    2019-06  1793.98  \n",
       "\n",
       "[607 rows x 7 columns]"
      ]
     },
     "execution_count": 8,
     "metadata": {},
     "output_type": "execute_result"
    }
   ],
   "source": [
    "dct_df_train[name_target_country]"
   ]
  },
  {
   "cell_type": "code",
   "execution_count": 9,
   "metadata": {},
   "outputs": [
    {
     "data": {
      "text/html": [
       "<div>\n",
       "<style scoped>\n",
       "    .dataframe tbody tr th:only-of-type {\n",
       "        vertical-align: middle;\n",
       "    }\n",
       "\n",
       "    .dataframe tbody tr th {\n",
       "        vertical-align: top;\n",
       "    }\n",
       "\n",
       "    .dataframe thead th {\n",
       "        text-align: right;\n",
       "    }\n",
       "</style>\n",
       "<table border=\"1\" class=\"dataframe\">\n",
       "  <thead>\n",
       "    <tr style=\"text-align: right;\">\n",
       "      <th></th>\n",
       "      <th>previous_7</th>\n",
       "      <th>previous_14</th>\n",
       "      <th>previous_28</th>\n",
       "      <th>previous_70</th>\n",
       "      <th>previous_year</th>\n",
       "      <th>recent_invoices</th>\n",
       "      <th>recent_views</th>\n",
       "    </tr>\n",
       "  </thead>\n",
       "  <tbody>\n",
       "    <tr>\n",
       "      <th>0</th>\n",
       "      <td>13281.12</td>\n",
       "      <td>13281.12</td>\n",
       "      <td>13281.12</td>\n",
       "      <td>13281.120</td>\n",
       "      <td>0.00</td>\n",
       "      <td>5.500000</td>\n",
       "      <td>461.500000</td>\n",
       "    </tr>\n",
       "    <tr>\n",
       "      <th>1</th>\n",
       "      <td>26504.09</td>\n",
       "      <td>26504.09</td>\n",
       "      <td>26504.09</td>\n",
       "      <td>26504.090</td>\n",
       "      <td>0.00</td>\n",
       "      <td>9.620690</td>\n",
       "      <td>916.275862</td>\n",
       "    </tr>\n",
       "    <tr>\n",
       "      <th>2</th>\n",
       "      <td>39445.59</td>\n",
       "      <td>39445.59</td>\n",
       "      <td>39445.59</td>\n",
       "      <td>39445.590</td>\n",
       "      <td>0.00</td>\n",
       "      <td>14.100000</td>\n",
       "      <td>1393.833333</td>\n",
       "    </tr>\n",
       "    <tr>\n",
       "      <th>3</th>\n",
       "      <td>48608.66</td>\n",
       "      <td>48608.66</td>\n",
       "      <td>48608.66</td>\n",
       "      <td>48608.660</td>\n",
       "      <td>0.00</td>\n",
       "      <td>17.433333</td>\n",
       "      <td>1782.233333</td>\n",
       "    </tr>\n",
       "    <tr>\n",
       "      <th>4</th>\n",
       "      <td>49871.94</td>\n",
       "      <td>49871.94</td>\n",
       "      <td>49871.94</td>\n",
       "      <td>49871.940</td>\n",
       "      <td>0.00</td>\n",
       "      <td>18.466667</td>\n",
       "      <td>1885.600000</td>\n",
       "    </tr>\n",
       "    <tr>\n",
       "      <th>...</th>\n",
       "      <td>...</td>\n",
       "      <td>...</td>\n",
       "      <td>...</td>\n",
       "      <td>...</td>\n",
       "      <td>...</td>\n",
       "      <td>...</td>\n",
       "      <td>...</td>\n",
       "    </tr>\n",
       "    <tr>\n",
       "      <th>544</th>\n",
       "      <td>27077.89</td>\n",
       "      <td>75420.91</td>\n",
       "      <td>164870.89</td>\n",
       "      <td>332139.731</td>\n",
       "      <td>214887.55</td>\n",
       "      <td>64.033333</td>\n",
       "      <td>5784.000000</td>\n",
       "    </tr>\n",
       "    <tr>\n",
       "      <th>545</th>\n",
       "      <td>21415.85</td>\n",
       "      <td>55184.21</td>\n",
       "      <td>164870.89</td>\n",
       "      <td>329400.071</td>\n",
       "      <td>217886.64</td>\n",
       "      <td>64.033333</td>\n",
       "      <td>5784.000000</td>\n",
       "    </tr>\n",
       "    <tr>\n",
       "      <th>546</th>\n",
       "      <td>18685.65</td>\n",
       "      <td>50822.41</td>\n",
       "      <td>141209.24</td>\n",
       "      <td>324094.101</td>\n",
       "      <td>224261.42</td>\n",
       "      <td>65.100000</td>\n",
       "      <td>5887.633333</td>\n",
       "    </tr>\n",
       "    <tr>\n",
       "      <th>547</th>\n",
       "      <td>20229.09</td>\n",
       "      <td>51554.17</td>\n",
       "      <td>143412.75</td>\n",
       "      <td>325326.831</td>\n",
       "      <td>225882.00</td>\n",
       "      <td>67.000000</td>\n",
       "      <td>6052.166667</td>\n",
       "    </tr>\n",
       "    <tr>\n",
       "      <th>548</th>\n",
       "      <td>23120.41</td>\n",
       "      <td>51438.64</td>\n",
       "      <td>144263.52</td>\n",
       "      <td>327754.081</td>\n",
       "      <td>224732.64</td>\n",
       "      <td>65.833333</td>\n",
       "      <td>6070.566667</td>\n",
       "    </tr>\n",
       "  </tbody>\n",
       "</table>\n",
       "<p>549 rows × 7 columns</p>\n",
       "</div>"
      ],
      "text/plain": [
       "     previous_7  previous_14  previous_28  previous_70  previous_year  \\\n",
       "0      13281.12     13281.12     13281.12    13281.120           0.00   \n",
       "1      26504.09     26504.09     26504.09    26504.090           0.00   \n",
       "2      39445.59     39445.59     39445.59    39445.590           0.00   \n",
       "3      48608.66     48608.66     48608.66    48608.660           0.00   \n",
       "4      49871.94     49871.94     49871.94    49871.940           0.00   \n",
       "..          ...          ...          ...          ...            ...   \n",
       "544    27077.89     75420.91    164870.89   332139.731      214887.55   \n",
       "545    21415.85     55184.21    164870.89   329400.071      217886.64   \n",
       "546    18685.65     50822.41    141209.24   324094.101      224261.42   \n",
       "547    20229.09     51554.17    143412.75   325326.831      225882.00   \n",
       "548    23120.41     51438.64    144263.52   327754.081      224732.64   \n",
       "\n",
       "     recent_invoices  recent_views  \n",
       "0           5.500000    461.500000  \n",
       "1           9.620690    916.275862  \n",
       "2          14.100000   1393.833333  \n",
       "3          17.433333   1782.233333  \n",
       "4          18.466667   1885.600000  \n",
       "..               ...           ...  \n",
       "544        64.033333   5784.000000  \n",
       "545        64.033333   5784.000000  \n",
       "546        65.100000   5887.633333  \n",
       "547        67.000000   6052.166667  \n",
       "548        65.833333   6070.566667  \n",
       "\n",
       "[549 rows x 7 columns]"
      ]
     },
     "execution_count": 9,
     "metadata": {},
     "output_type": "execute_result"
    }
   ],
   "source": [
    "df_features"
   ]
  },
  {
   "cell_type": "code",
   "execution_count": 10,
   "metadata": {},
   "outputs": [
    {
     "name": "stdout",
     "output_type": "stream",
     "text": [
      "... loading ts data from files\n"
     ]
    }
   ],
   "source": [
    "# 2019/8~2019/11 のデータ\n",
    "# 今回の分析ではテストデータとなる\n",
    "dct_df_production = cslib.fetch_ts(path_data_production)\n",
    "df_production = dct_df_production[name_target_country]"
   ]
  },
  {
   "cell_type": "markdown",
   "metadata": {},
   "source": [
    "#### prophet（時系列回帰）"
   ]
  },
  {
   "cell_type": "code",
   "execution_count": null,
   "metadata": {},
   "outputs": [],
   "source": [
    "from fbprophet import Prophet"
   ]
  },
  {
   "cell_type": "code",
   "execution_count": 11,
   "metadata": {},
   "outputs": [],
   "source": [
    "# 入力用のデータフレーム作成\n",
    "df_input = pd.DataFrame()\n",
    "df_input[\"ds\"] = dates\n",
    "df_input[\"y\"] = y"
   ]
  },
  {
   "cell_type": "code",
   "execution_count": 12,
   "metadata": {},
   "outputs": [
    {
     "name": "stderr",
     "output_type": "stream",
     "text": [
      "INFO:fbprophet:Disabling yearly seasonality. Run prophet with yearly_seasonality=True to override this.\n"
     ]
    },
    {
     "data": {
      "text/plain": [
       "<fbprophet.forecaster.Prophet at 0x2498046b280>"
      ]
     },
     "execution_count": 12,
     "metadata": {},
     "output_type": "execute_result"
    }
   ],
   "source": [
    "# モデルの適用\n",
    "model = Prophet(growth=\"linear\", daily_seasonality=True)\n",
    "model.add_seasonality(name=\"monthly\", period=30, fourier_order=5)\n",
    "model.fit(df_input)"
   ]
  },
  {
   "cell_type": "code",
   "execution_count": 13,
   "metadata": {},
   "outputs": [
    {
     "data": {
      "image/png": "[encoded data removed]",
      "text/plain": [
       "<Figure size 720x432 with 1 Axes>"
      ]
     },
     "metadata": {},
     "output_type": "display_data"
    }
   ],
   "source": [
    "# 表示\n",
    "future = model.make_future_dataframe(periods=90)\n",
    "forecast = model.predict(future)\n",
    "model.plot(forecast)\n",
    "plt.show()"
   ]
  },
  {
   "cell_type": "code",
   "execution_count": null,
   "metadata": {},
   "outputs": [],
   "source": []
  },
  {
   "cell_type": "markdown",
   "metadata": {},
   "source": [
    "#### tpot（ランダムフォレスト, 勾配ぶースティング）"
   ]
  },
  {
   "cell_type": "code",
   "execution_count": 14,
   "metadata": {},
   "outputs": [
    {
     "name": "stderr",
     "output_type": "stream",
     "text": [
      "C:\\Users\\EINOSUKEIIDA\\Anaconda3\\envs\\stan_env\\lib\\site-packages\\tpot\\builtins\\__init__.py:36: UserWarning: Warning: optional dependency `torch` is not available. - skipping import of NN models.\n",
      "  warnings.warn(\"Warning: optional dependency `torch` is not available. - skipping import of NN models.\")\n"
     ]
    }
   ],
   "source": [
    "from tpot import TPOTRegressor"
   ]
  },
  {
   "cell_type": "code",
   "execution_count": 18,
   "metadata": {},
   "outputs": [
    {
     "name": "stdout",
     "output_type": "stream",
     "text": [
      "Warning: xgboost.XGBRegressor is not available and will not be used by TPOT.\n"
     ]
    },
    {
     "ename": "ImportError",
     "evalue": "IProgress not found. Please update jupyter and ipywidgets. See https://ipywidgets.readthedocs.io/en/stable/user_install.html",
     "output_type": "error",
     "traceback": [
      "\u001b[1;31m---------------------------------------------------------------------------\u001b[0m",
      "\u001b[1;31mImportError\u001b[0m                               Traceback (most recent call last)",
      "\u001b[1;32m<ipython-input-18-81f240606e62>\u001b[0m in \u001b[0;36m<module>\u001b[1;34m\u001b[0m\n\u001b[0;32m      1\u001b[0m \u001b[0mtpot\u001b[0m \u001b[1;33m=\u001b[0m \u001b[0mTPOTRegressor\u001b[0m\u001b[1;33m(\u001b[0m\u001b[0mgenerations\u001b[0m\u001b[1;33m=\u001b[0m\u001b[1;36m5\u001b[0m\u001b[1;33m,\u001b[0m \u001b[0mpopulation_size\u001b[0m\u001b[1;33m=\u001b[0m\u001b[1;36m50\u001b[0m\u001b[1;33m,\u001b[0m \u001b[0mverbosity\u001b[0m\u001b[1;33m=\u001b[0m\u001b[1;36m2\u001b[0m\u001b[1;33m,\u001b[0m \u001b[0mrandom_state\u001b[0m\u001b[1;33m=\u001b[0m\u001b[1;36m42\u001b[0m\u001b[1;33m)\u001b[0m\u001b[1;33m\u001b[0m\u001b[1;33m\u001b[0m\u001b[0m\n\u001b[1;32m----> 2\u001b[1;33m \u001b[0mtpot\u001b[0m\u001b[1;33m.\u001b[0m\u001b[0mfit\u001b[0m\u001b[1;33m(\u001b[0m\u001b[0mdf_features\u001b[0m\u001b[1;33m,\u001b[0m \u001b[0my\u001b[0m\u001b[1;33m)\u001b[0m\u001b[1;33m\u001b[0m\u001b[1;33m\u001b[0m\u001b[0m\n\u001b[0m\u001b[0;32m      3\u001b[0m \u001b[0mtpot\u001b[0m\u001b[1;33m.\u001b[0m\u001b[0mexport\u001b[0m\u001b[1;33m(\u001b[0m\u001b[1;34m'tpot_pipeline.py'\u001b[0m\u001b[1;33m)\u001b[0m\u001b[1;33m\u001b[0m\u001b[1;33m\u001b[0m\u001b[0m\n",
      "\u001b[1;32m~\\Anaconda3\\envs\\stan_env\\lib\\site-packages\\tpot\\base.py\u001b[0m in \u001b[0;36mfit\u001b[1;34m(self, features, target, sample_weight, groups)\u001b[0m\n\u001b[0;32m    705\u001b[0m             \u001b[0mtotal_evals\u001b[0m \u001b[1;33m=\u001b[0m \u001b[0mself\u001b[0m\u001b[1;33m.\u001b[0m\u001b[0m_lambda\u001b[0m \u001b[1;33m*\u001b[0m \u001b[0mself\u001b[0m\u001b[1;33m.\u001b[0m\u001b[0mgenerations\u001b[0m \u001b[1;33m+\u001b[0m \u001b[0mself\u001b[0m\u001b[1;33m.\u001b[0m\u001b[0mpopulation_size\u001b[0m\u001b[1;33m\u001b[0m\u001b[1;33m\u001b[0m\u001b[0m\n\u001b[0;32m    706\u001b[0m \u001b[1;33m\u001b[0m\u001b[0m\n\u001b[1;32m--> 707\u001b[1;33m         self._pbar = tqdm(total=total_evals, unit='pipeline', leave=False, file=self.log_file,\n\u001b[0m\u001b[0;32m    708\u001b[0m                           disable=not (self.verbosity >= 2), desc='Optimization Progress')\n\u001b[0;32m    709\u001b[0m \u001b[1;33m\u001b[0m\u001b[0m\n",
      "\u001b[1;32m~\\Anaconda3\\envs\\stan_env\\lib\\site-packages\\tqdm\\notebook.py\u001b[0m in \u001b[0;36m__init__\u001b[1;34m(self, *args, **kwargs)\u001b[0m\n\u001b[0;32m    221\u001b[0m         \u001b[0munit_scale\u001b[0m \u001b[1;33m=\u001b[0m \u001b[1;36m1\u001b[0m \u001b[1;32mif\u001b[0m \u001b[0mself\u001b[0m\u001b[1;33m.\u001b[0m\u001b[0munit_scale\u001b[0m \u001b[1;32mis\u001b[0m \u001b[1;32mTrue\u001b[0m \u001b[1;32melse\u001b[0m \u001b[0mself\u001b[0m\u001b[1;33m.\u001b[0m\u001b[0munit_scale\u001b[0m \u001b[1;32mor\u001b[0m \u001b[1;36m1\u001b[0m\u001b[1;33m\u001b[0m\u001b[1;33m\u001b[0m\u001b[0m\n\u001b[0;32m    222\u001b[0m         \u001b[0mtotal\u001b[0m \u001b[1;33m=\u001b[0m \u001b[0mself\u001b[0m\u001b[1;33m.\u001b[0m\u001b[0mtotal\u001b[0m \u001b[1;33m*\u001b[0m \u001b[0munit_scale\u001b[0m \u001b[1;32mif\u001b[0m \u001b[0mself\u001b[0m\u001b[1;33m.\u001b[0m\u001b[0mtotal\u001b[0m \u001b[1;32melse\u001b[0m \u001b[0mself\u001b[0m\u001b[1;33m.\u001b[0m\u001b[0mtotal\u001b[0m\u001b[1;33m\u001b[0m\u001b[1;33m\u001b[0m\u001b[0m\n\u001b[1;32m--> 223\u001b[1;33m         self.container = self.status_printer(\n\u001b[0m\u001b[0;32m    224\u001b[0m             self.fp, total, self.desc, self.ncols)\n\u001b[0;32m    225\u001b[0m         \u001b[0mself\u001b[0m\u001b[1;33m.\u001b[0m\u001b[0msp\u001b[0m \u001b[1;33m=\u001b[0m \u001b[0mself\u001b[0m\u001b[1;33m.\u001b[0m\u001b[0mdisplay\u001b[0m\u001b[1;33m\u001b[0m\u001b[1;33m\u001b[0m\u001b[0m\n",
      "\u001b[1;32m~\\Anaconda3\\envs\\stan_env\\lib\\site-packages\\tqdm\\notebook.py\u001b[0m in \u001b[0;36mstatus_printer\u001b[1;34m(_, total, desc, ncols)\u001b[0m\n\u001b[0;32m     94\u001b[0m         \u001b[1;31m# Prepare IPython progress bar\u001b[0m\u001b[1;33m\u001b[0m\u001b[1;33m\u001b[0m\u001b[1;33m\u001b[0m\u001b[0m\n\u001b[0;32m     95\u001b[0m         \u001b[1;32mif\u001b[0m \u001b[0mIProgress\u001b[0m \u001b[1;32mis\u001b[0m \u001b[1;32mNone\u001b[0m\u001b[1;33m:\u001b[0m  \u001b[1;31m# #187 #451 #558 #872\u001b[0m\u001b[1;33m\u001b[0m\u001b[1;33m\u001b[0m\u001b[0m\n\u001b[1;32m---> 96\u001b[1;33m             raise ImportError(\n\u001b[0m\u001b[0;32m     97\u001b[0m                 \u001b[1;34m\"IProgress not found. Please update jupyter and ipywidgets.\"\u001b[0m\u001b[1;33m\u001b[0m\u001b[1;33m\u001b[0m\u001b[0m\n\u001b[0;32m     98\u001b[0m                 \u001b[1;34m\" See https://ipywidgets.readthedocs.io/en/stable\"\u001b[0m\u001b[1;33m\u001b[0m\u001b[1;33m\u001b[0m\u001b[0m\n",
      "\u001b[1;31mImportError\u001b[0m: IProgress not found. Please update jupyter and ipywidgets. See https://ipywidgets.readthedocs.io/en/stable/user_install.html"
     ]
    }
   ],
   "source": [
    "tpot = TPOTRegressor(generations=5, population_size=50, verbosity=2, random_state=42)\n",
    "tpot.fit(df_features, y)\n",
    "tpot.export('tpot_pipeline.py')"
   ]
  },
  {
   "cell_type": "code",
   "execution_count": null,
   "metadata": {},
   "outputs": [],
   "source": []
  },
  {
   "cell_type": "markdown",
   "metadata": {},
   "source": [
    "#### GPy（ガウス過程）"
   ]
  },
  {
   "cell_type": "code",
   "execution_count": null,
   "metadata": {},
   "outputs": [],
   "source": [
    "import gpy"
   ]
  },
  {
   "cell_type": "code",
   "execution_count": null,
   "metadata": {},
   "outputs": [],
   "source": []
  },
  {
   "cell_type": "markdown",
   "metadata": {},
   "source": [
    "### 3.Re-train your model on all of the data using the selected approach and prepare it for deployment.（選択したアプローチを使用して、すべてのデータでモデルを再トレーニングし、展開の準備をします。）"
   ]
  },
  {
   "cell_type": "code",
   "execution_count": null,
   "metadata": {},
   "outputs": [],
   "source": []
  },
  {
   "cell_type": "code",
   "execution_count": null,
   "metadata": {},
   "outputs": [],
   "source": []
  },
  {
   "cell_type": "markdown",
   "metadata": {},
   "source": [
    "### 4.Articulate your findings in a summary report.（要約レポートで調査結果を明確にします。）"
   ]
  },
  {
   "cell_type": "code",
   "execution_count": null,
   "metadata": {},
   "outputs": [],
   "source": []
  },
  {
   "cell_type": "code",
   "execution_count": null,
   "metadata": {},
   "outputs": [],
   "source": []
  },
  {
   "cell_type": "code",
   "execution_count": null,
   "metadata": {},
   "outputs": [],
   "source": []
  },
  {
   "cell_type": "code",
   "execution_count": null,
   "metadata": {},
   "outputs": [],
   "source": []
  },
  {
   "cell_type": "code",
   "execution_count": null,
   "metadata": {},
   "outputs": [],
   "source": []
  }
 ],
 "metadata": {
  "kernelspec": {
   "display_name": "Python 3",
   "language": "python",
   "name": "python3"
  },
  "language_info": {
   "codemirror_mode": {
    "name": "ipython",
    "version": 3
   },
   "file_extension": ".py",
   "mimetype": "text/x-python",
   "name": "python",
   "nbconvert_exporter": "python",
   "pygments_lexer": "ipython3",
   "version": "3.8.5"
  }
 },
 "nbformat": 4,
 "nbformat_minor": 4
}

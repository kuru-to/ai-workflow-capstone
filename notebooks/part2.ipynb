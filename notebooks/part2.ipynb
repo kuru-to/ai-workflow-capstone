{
 "cells": [
  {
   "cell_type": "markdown",
   "metadata": {},
   "source": [
    "# Part 2"
   ]
  },
  {
   "cell_type": "markdown",
   "metadata": {},
   "source": [
    "## やること"
   ]
  },
  {
   "cell_type": "markdown",
   "metadata": {},
   "source": [
    "1. State the different modeling approaches that you will compare to address the business opportunity.（ビジネスチャンスに対処するために比較するさまざまなモデリングアプローチを説明します。）\n",
    "2. Iterate on your suite of possible models by modifying data transformations, pipeline architectures, hyperparameters and other relevant factors.（データ変換、パイプラインアーキテクチャ、ハイパーパラメータ、およびその他の関連する要素を変更することにより、可能なモデルのスイートを反復処理します。）\n",
    "3. Re-train your model on all of the data using the selected approach and prepare it for deployment.（選択したアプローチを使用して、すべてのデータでモデルを再トレーニングし、展開の準備をします。）\n",
    "4. Articulate your findings in a summary report.（要約レポートで調査結果を明確にします。）"
   ]
  },
  {
   "cell_type": "markdown",
   "metadata": {},
   "source": [
    "## Our Story"
   ]
  },
  {
   "cell_type": "markdown",
   "metadata": {},
   "source": [
    "The business opportunity has been defined and you have come to an agreement with leadership with respect to appropriate wording and testable hypotheses. This part of the case study will focus on the next two stages in the enterprise workflow, namely data transformations and models. This part of the workflow will be treated slightly differently than previous case studies as these are time-series data, but the general procedure and best practices remain the same. These materials will provide the necessary guidance so that you can apply one of the supervised learning approaches that we have already discussed. However, you will also be encouraged to explore some of the time-series modeling tools available."
   ]
  },
  {
   "cell_type": "markdown",
   "metadata": {},
   "source": [
    "### 和訳"
   ]
  },
  {
   "cell_type": "markdown",
   "metadata": {},
   "source": [
    "ビジネスチャンスが定義され、適切な表現と検証可能な仮説に関してリーダーシップと合意に達しました。 ケーススタディのこの部分では、エンタープライズワークフローの次の2つの段階、つまりデータ変換とモデルに焦点を当てます。 ワークフローのこの部分は、時系列データであるため、以前のケーススタディとは少し異なる方法で処理されますが、一般的な手順とベストプラクティスは同じままです。 これらの資料は、すでに説明した教師あり学習アプローチの1つを適用できるように、必要なガイダンスを提供します。 ただし、利用可能な時系列モデリングツールのいくつかを調べることもお勧めします。"
   ]
  },
  {
   "cell_type": "markdown",
   "metadata": {},
   "source": [
    "## Hands On 説明"
   ]
  },
  {
   "cell_type": "markdown",
   "metadata": {},
   "source": [
    "Time-series data are commonly encountered in data science. In particular, the field of finance, signal processing, weather and other fields regularly deal with data formatted in this way. The goal of this case study is time-series forecasting, which can be thought of as the use of a model to predict future values based on previously observed values. So we could try to predict purchases, number of views or the feature most closely related to our business opportunity, revenue."
   ]
  },
  {
   "cell_type": "markdown",
   "metadata": {},
   "source": [
    "### 和訳"
   ]
  },
  {
   "cell_type": "markdown",
   "metadata": {},
   "source": [
    "時系列データは、データサイエンスでよく見られます。 特に、金融、信号処理、気象などの分野では、このようにフォーマットされたデータを定期的に扱っています。 このケーススタディの目標は時系列予測です。これは、以前に観測された値に基づいて将来の値を予測するためのモデルの使用と考えることができます。 そのため、購入、視聴回数、またはビジネスチャンス、収益に最も密接に関連する機能を予測することができます。"
   ]
  },
  {
   "cell_type": "markdown",
   "metadata": {},
   "source": [
    "## import packages"
   ]
  },
  {
   "cell_type": "code",
   "execution_count": 1,
   "metadata": {},
   "outputs": [],
   "source": [
    "import sys\n",
    "sys.path.append(\"../solution-guidance/\")\n",
    "import cslib\n",
    "# import model"
   ]
  },
  {
   "cell_type": "code",
   "execution_count": 2,
   "metadata": {},
   "outputs": [],
   "source": [
    "import pandas as pd\n",
    "import matplotlib.pyplot as plt\n",
    "import sklearn"
   ]
  },
  {
   "cell_type": "markdown",
   "metadata": {},
   "source": [
    "## parameter settings"
   ]
  },
  {
   "cell_type": "code",
   "execution_count": 3,
   "metadata": {},
   "outputs": [],
   "source": [
    "path_data = \"../data/\"\n",
    "path_data_production = path_data + \"cs-production/\"\n",
    "path_data_train = path_data + \"cs-train/\""
   ]
  },
  {
   "cell_type": "code",
   "execution_count": 4,
   "metadata": {},
   "outputs": [],
   "source": [
    "# 予測の対象とする国. 今回はuk\n",
    "name_target_country = \"united_kingdom\""
   ]
  },
  {
   "cell_type": "markdown",
   "metadata": {},
   "source": [
    "## 問題と回答 "
   ]
  },
  {
   "cell_type": "markdown",
   "metadata": {},
   "source": [
    "### 1.State the different modeling approaches that you will compare to address the business opportunity.（ビジネスチャンスに対処するために比較するさまざまなモデリングアプローチを説明します。）"
   ]
  },
  {
   "cell_type": "markdown",
   "metadata": {},
   "source": [
    "#### 回答"
   ]
  },
  {
   "cell_type": "markdown",
   "metadata": {},
   "source": [
    "- 時系列回帰\n",
    "- ランダムフォレスト, 勾配ぶースティング\n",
    "- ガウス過程\n",
    "- 状態空間モデル"
   ]
  },
  {
   "cell_type": "markdown",
   "metadata": {},
   "source": [
    "### 2.Iterate on your suite of possible models by modifying data transformations, pipeline architectures, hyperparameters and other relevant factors.（データ変換、パイプラインアーキテクチャ、ハイパーパラメータ、およびその他の関連する要素を変更することにより、可能なモデルのスイートを反復処理します。）"
   ]
  },
  {
   "cell_type": "markdown",
   "metadata": {},
   "source": [
    "#### データ変換"
   ]
  },
  {
   "cell_type": "code",
   "execution_count": 5,
   "metadata": {},
   "outputs": [
    {
     "name": "stdout",
     "output_type": "stream",
     "text": [
      "... loading ts data from files\n"
     ]
    }
   ],
   "source": [
    "# 時系列にしたDataFrameを国ごとの辞書にする\n",
    "dct_df_train = cslib.fetch_ts(path_data_train)"
   ]
  },
  {
   "cell_type": "code",
   "execution_count": 33,
   "metadata": {},
   "outputs": [],
   "source": [
    "# 対象の国のみのデータを抽出\n",
    "# 対象の日付は 2017/11/1 ~ 2019/6/30\n",
    "df_train = dct_df_train[name_target_country]"
   ]
  },
  {
   "cell_type": "code",
   "execution_count": 34,
   "metadata": {},
   "outputs": [],
   "source": [
    "# 特徴量の作成\n",
    "# 対象の日付は 2017/11/29 ~ 2019/5/31 （計549日）となる\n",
    "df_features, y, dates = cslib.engineer_features(df_train)"
   ]
  },
  {
   "cell_type": "code",
   "execution_count": 35,
   "metadata": {},
   "outputs": [
    {
     "data": {
      "text/html": [
       "<div>\n",
       "<style scoped>\n",
       "    .dataframe tbody tr th:only-of-type {\n",
       "        vertical-align: middle;\n",
       "    }\n",
       "\n",
       "    .dataframe tbody tr th {\n",
       "        vertical-align: top;\n",
       "    }\n",
       "\n",
       "    .dataframe thead th {\n",
       "        text-align: right;\n",
       "    }\n",
       "</style>\n",
       "<table border=\"1\" class=\"dataframe\">\n",
       "  <thead>\n",
       "    <tr style=\"text-align: right;\">\n",
       "      <th></th>\n",
       "      <th>date</th>\n",
       "      <th>purchases</th>\n",
       "      <th>unique_invoices</th>\n",
       "      <th>unique_streams</th>\n",
       "      <th>total_views</th>\n",
       "      <th>year_month</th>\n",
       "      <th>revenue</th>\n",
       "    </tr>\n",
       "  </thead>\n",
       "  <tbody>\n",
       "    <tr>\n",
       "      <th>0</th>\n",
       "      <td>2017-11-01</td>\n",
       "      <td>0</td>\n",
       "      <td>0</td>\n",
       "      <td>0</td>\n",
       "      <td>0</td>\n",
       "      <td>2017-11</td>\n",
       "      <td>0.00</td>\n",
       "    </tr>\n",
       "    <tr>\n",
       "      <th>1</th>\n",
       "      <td>2017-11-02</td>\n",
       "      <td>0</td>\n",
       "      <td>0</td>\n",
       "      <td>0</td>\n",
       "      <td>0</td>\n",
       "      <td>2017-11</td>\n",
       "      <td>0.00</td>\n",
       "    </tr>\n",
       "    <tr>\n",
       "      <th>2</th>\n",
       "      <td>2017-11-03</td>\n",
       "      <td>0</td>\n",
       "      <td>0</td>\n",
       "      <td>0</td>\n",
       "      <td>0</td>\n",
       "      <td>2017-11</td>\n",
       "      <td>0.00</td>\n",
       "    </tr>\n",
       "    <tr>\n",
       "      <th>3</th>\n",
       "      <td>2017-11-04</td>\n",
       "      <td>0</td>\n",
       "      <td>0</td>\n",
       "      <td>0</td>\n",
       "      <td>0</td>\n",
       "      <td>2017-11</td>\n",
       "      <td>0.00</td>\n",
       "    </tr>\n",
       "    <tr>\n",
       "      <th>4</th>\n",
       "      <td>2017-11-05</td>\n",
       "      <td>0</td>\n",
       "      <td>0</td>\n",
       "      <td>0</td>\n",
       "      <td>0</td>\n",
       "      <td>2017-11</td>\n",
       "      <td>0.00</td>\n",
       "    </tr>\n",
       "    <tr>\n",
       "      <th>...</th>\n",
       "      <td>...</td>\n",
       "      <td>...</td>\n",
       "      <td>...</td>\n",
       "      <td>...</td>\n",
       "      <td>...</td>\n",
       "      <td>...</td>\n",
       "      <td>...</td>\n",
       "    </tr>\n",
       "    <tr>\n",
       "      <th>602</th>\n",
       "      <td>2019-06-26</td>\n",
       "      <td>1274</td>\n",
       "      <td>62</td>\n",
       "      <td>965</td>\n",
       "      <td>5702</td>\n",
       "      <td>2019-06</td>\n",
       "      <td>4611.00</td>\n",
       "    </tr>\n",
       "    <tr>\n",
       "      <th>603</th>\n",
       "      <td>2019-06-27</td>\n",
       "      <td>1487</td>\n",
       "      <td>72</td>\n",
       "      <td>897</td>\n",
       "      <td>8230</td>\n",
       "      <td>2019-06</td>\n",
       "      <td>5128.02</td>\n",
       "    </tr>\n",
       "    <tr>\n",
       "      <th>604</th>\n",
       "      <td>2019-06-28</td>\n",
       "      <td>923</td>\n",
       "      <td>62</td>\n",
       "      <td>565</td>\n",
       "      <td>4674</td>\n",
       "      <td>2019-06</td>\n",
       "      <td>3096.20</td>\n",
       "    </tr>\n",
       "    <tr>\n",
       "      <th>605</th>\n",
       "      <td>2019-06-29</td>\n",
       "      <td>0</td>\n",
       "      <td>0</td>\n",
       "      <td>0</td>\n",
       "      <td>0</td>\n",
       "      <td>2019-06</td>\n",
       "      <td>0.00</td>\n",
       "    </tr>\n",
       "    <tr>\n",
       "      <th>606</th>\n",
       "      <td>2019-06-30</td>\n",
       "      <td>602</td>\n",
       "      <td>27</td>\n",
       "      <td>423</td>\n",
       "      <td>2534</td>\n",
       "      <td>2019-06</td>\n",
       "      <td>1793.98</td>\n",
       "    </tr>\n",
       "  </tbody>\n",
       "</table>\n",
       "<p>607 rows × 7 columns</p>\n",
       "</div>"
      ],
      "text/plain": [
       "           date  purchases  unique_invoices  unique_streams  total_views  \\\n",
       "0    2017-11-01          0                0               0            0   \n",
       "1    2017-11-02          0                0               0            0   \n",
       "2    2017-11-03          0                0               0            0   \n",
       "3    2017-11-04          0                0               0            0   \n",
       "4    2017-11-05          0                0               0            0   \n",
       "..          ...        ...              ...             ...          ...   \n",
       "602  2019-06-26       1274               62             965         5702   \n",
       "603  2019-06-27       1487               72             897         8230   \n",
       "604  2019-06-28        923               62             565         4674   \n",
       "605  2019-06-29          0                0               0            0   \n",
       "606  2019-06-30        602               27             423         2534   \n",
       "\n",
       "    year_month  revenue  \n",
       "0      2017-11     0.00  \n",
       "1      2017-11     0.00  \n",
       "2      2017-11     0.00  \n",
       "3      2017-11     0.00  \n",
       "4      2017-11     0.00  \n",
       "..         ...      ...  \n",
       "602    2019-06  4611.00  \n",
       "603    2019-06  5128.02  \n",
       "604    2019-06  3096.20  \n",
       "605    2019-06     0.00  \n",
       "606    2019-06  1793.98  \n",
       "\n",
       "[607 rows x 7 columns]"
      ]
     },
     "execution_count": 35,
     "metadata": {},
     "output_type": "execute_result"
    }
   ],
   "source": [
    "df_train"
   ]
  },
  {
   "cell_type": "code",
   "execution_count": 36,
   "metadata": {},
   "outputs": [
    {
     "data": {
      "text/html": [
       "<div>\n",
       "<style scoped>\n",
       "    .dataframe tbody tr th:only-of-type {\n",
       "        vertical-align: middle;\n",
       "    }\n",
       "\n",
       "    .dataframe tbody tr th {\n",
       "        vertical-align: top;\n",
       "    }\n",
       "\n",
       "    .dataframe thead th {\n",
       "        text-align: right;\n",
       "    }\n",
       "</style>\n",
       "<table border=\"1\" class=\"dataframe\">\n",
       "  <thead>\n",
       "    <tr style=\"text-align: right;\">\n",
       "      <th></th>\n",
       "      <th>previous_7</th>\n",
       "      <th>previous_14</th>\n",
       "      <th>previous_28</th>\n",
       "      <th>previous_70</th>\n",
       "      <th>previous_year</th>\n",
       "      <th>recent_invoices</th>\n",
       "      <th>recent_views</th>\n",
       "    </tr>\n",
       "  </thead>\n",
       "  <tbody>\n",
       "    <tr>\n",
       "      <th>0</th>\n",
       "      <td>13281.12</td>\n",
       "      <td>13281.12</td>\n",
       "      <td>13281.12</td>\n",
       "      <td>13281.120</td>\n",
       "      <td>0.00</td>\n",
       "      <td>5.500000</td>\n",
       "      <td>461.500000</td>\n",
       "    </tr>\n",
       "    <tr>\n",
       "      <th>1</th>\n",
       "      <td>26504.09</td>\n",
       "      <td>26504.09</td>\n",
       "      <td>26504.09</td>\n",
       "      <td>26504.090</td>\n",
       "      <td>0.00</td>\n",
       "      <td>9.620690</td>\n",
       "      <td>916.275862</td>\n",
       "    </tr>\n",
       "    <tr>\n",
       "      <th>2</th>\n",
       "      <td>39445.59</td>\n",
       "      <td>39445.59</td>\n",
       "      <td>39445.59</td>\n",
       "      <td>39445.590</td>\n",
       "      <td>0.00</td>\n",
       "      <td>14.100000</td>\n",
       "      <td>1393.833333</td>\n",
       "    </tr>\n",
       "    <tr>\n",
       "      <th>3</th>\n",
       "      <td>48608.66</td>\n",
       "      <td>48608.66</td>\n",
       "      <td>48608.66</td>\n",
       "      <td>48608.660</td>\n",
       "      <td>0.00</td>\n",
       "      <td>17.433333</td>\n",
       "      <td>1782.233333</td>\n",
       "    </tr>\n",
       "    <tr>\n",
       "      <th>4</th>\n",
       "      <td>49871.94</td>\n",
       "      <td>49871.94</td>\n",
       "      <td>49871.94</td>\n",
       "      <td>49871.940</td>\n",
       "      <td>0.00</td>\n",
       "      <td>18.466667</td>\n",
       "      <td>1885.600000</td>\n",
       "    </tr>\n",
       "    <tr>\n",
       "      <th>...</th>\n",
       "      <td>...</td>\n",
       "      <td>...</td>\n",
       "      <td>...</td>\n",
       "      <td>...</td>\n",
       "      <td>...</td>\n",
       "      <td>...</td>\n",
       "      <td>...</td>\n",
       "    </tr>\n",
       "    <tr>\n",
       "      <th>544</th>\n",
       "      <td>27077.89</td>\n",
       "      <td>75420.91</td>\n",
       "      <td>164870.89</td>\n",
       "      <td>332139.731</td>\n",
       "      <td>214887.55</td>\n",
       "      <td>64.033333</td>\n",
       "      <td>5784.000000</td>\n",
       "    </tr>\n",
       "    <tr>\n",
       "      <th>545</th>\n",
       "      <td>21415.85</td>\n",
       "      <td>55184.21</td>\n",
       "      <td>164870.89</td>\n",
       "      <td>329400.071</td>\n",
       "      <td>217886.64</td>\n",
       "      <td>64.033333</td>\n",
       "      <td>5784.000000</td>\n",
       "    </tr>\n",
       "    <tr>\n",
       "      <th>546</th>\n",
       "      <td>18685.65</td>\n",
       "      <td>50822.41</td>\n",
       "      <td>141209.24</td>\n",
       "      <td>324094.101</td>\n",
       "      <td>224261.42</td>\n",
       "      <td>65.100000</td>\n",
       "      <td>5887.633333</td>\n",
       "    </tr>\n",
       "    <tr>\n",
       "      <th>547</th>\n",
       "      <td>20229.09</td>\n",
       "      <td>51554.17</td>\n",
       "      <td>143412.75</td>\n",
       "      <td>325326.831</td>\n",
       "      <td>225882.00</td>\n",
       "      <td>67.000000</td>\n",
       "      <td>6052.166667</td>\n",
       "    </tr>\n",
       "    <tr>\n",
       "      <th>548</th>\n",
       "      <td>23120.41</td>\n",
       "      <td>51438.64</td>\n",
       "      <td>144263.52</td>\n",
       "      <td>327754.081</td>\n",
       "      <td>224732.64</td>\n",
       "      <td>65.833333</td>\n",
       "      <td>6070.566667</td>\n",
       "    </tr>\n",
       "  </tbody>\n",
       "</table>\n",
       "<p>549 rows × 7 columns</p>\n",
       "</div>"
      ],
      "text/plain": [
       "     previous_7  previous_14  previous_28  previous_70  previous_year  \\\n",
       "0      13281.12     13281.12     13281.12    13281.120           0.00   \n",
       "1      26504.09     26504.09     26504.09    26504.090           0.00   \n",
       "2      39445.59     39445.59     39445.59    39445.590           0.00   \n",
       "3      48608.66     48608.66     48608.66    48608.660           0.00   \n",
       "4      49871.94     49871.94     49871.94    49871.940           0.00   \n",
       "..          ...          ...          ...          ...            ...   \n",
       "544    27077.89     75420.91    164870.89   332139.731      214887.55   \n",
       "545    21415.85     55184.21    164870.89   329400.071      217886.64   \n",
       "546    18685.65     50822.41    141209.24   324094.101      224261.42   \n",
       "547    20229.09     51554.17    143412.75   325326.831      225882.00   \n",
       "548    23120.41     51438.64    144263.52   327754.081      224732.64   \n",
       "\n",
       "     recent_invoices  recent_views  \n",
       "0           5.500000    461.500000  \n",
       "1           9.620690    916.275862  \n",
       "2          14.100000   1393.833333  \n",
       "3          17.433333   1782.233333  \n",
       "4          18.466667   1885.600000  \n",
       "..               ...           ...  \n",
       "544        64.033333   5784.000000  \n",
       "545        64.033333   5784.000000  \n",
       "546        65.100000   5887.633333  \n",
       "547        67.000000   6052.166667  \n",
       "548        65.833333   6070.566667  \n",
       "\n",
       "[549 rows x 7 columns]"
      ]
     },
     "execution_count": 36,
     "metadata": {},
     "output_type": "execute_result"
    }
   ],
   "source": [
    "df_features"
   ]
  },
  {
   "cell_type": "code",
   "execution_count": 37,
   "metadata": {},
   "outputs": [
    {
     "name": "stdout",
     "output_type": "stream",
     "text": [
      "... loading ts data from files\n"
     ]
    }
   ],
   "source": [
    "# 2019/8~2019/11 のデータ\n",
    "# 今回の分析ではテストデータとなる\n",
    "dct_df_production = cslib.fetch_ts(path_data_production)\n",
    "df_production = dct_df_production[name_target_country]"
   ]
  },
  {
   "cell_type": "code",
   "execution_count": 64,
   "metadata": {},
   "outputs": [],
   "source": [
    "# 特徴量\n",
    "# previous_70, previous_year にトレーニング用のデータが反映されていないため、反映する必要あり\n",
    "df_tmp, y_tmp, dates_tmp = cslib.engineer_features(pd.concat([df_train, df_production]))"
   ]
  },
  {
   "cell_type": "code",
   "execution_count": 72,
   "metadata": {},
   "outputs": [],
   "source": [
    "# テスト対象となるデータの範囲に絞る\n",
    "# 対象の日付は 2019/8/1 ~ 10/31 となる\n",
    "threshold_test = len(df_tmp)-92\n",
    "df_features_production = df_tmp[threshold_test:]\n",
    "y_production = y_tmp[threshold_test:]\n",
    "dates_production = dates_tmp[threshold_test:]"
   ]
  },
  {
   "cell_type": "code",
   "execution_count": 73,
   "metadata": {},
   "outputs": [
    {
     "data": {
      "text/html": [
       "<div>\n",
       "<style scoped>\n",
       "    .dataframe tbody tr th:only-of-type {\n",
       "        vertical-align: middle;\n",
       "    }\n",
       "\n",
       "    .dataframe tbody tr th {\n",
       "        vertical-align: top;\n",
       "    }\n",
       "\n",
       "    .dataframe thead th {\n",
       "        text-align: right;\n",
       "    }\n",
       "</style>\n",
       "<table border=\"1\" class=\"dataframe\">\n",
       "  <thead>\n",
       "    <tr style=\"text-align: right;\">\n",
       "      <th></th>\n",
       "      <th>previous_7</th>\n",
       "      <th>previous_14</th>\n",
       "      <th>previous_28</th>\n",
       "      <th>previous_70</th>\n",
       "      <th>previous_year</th>\n",
       "      <th>recent_invoices</th>\n",
       "      <th>recent_views</th>\n",
       "    </tr>\n",
       "  </thead>\n",
       "  <tbody>\n",
       "    <tr>\n",
       "      <th>579</th>\n",
       "      <td>0.00</td>\n",
       "      <td>0.00</td>\n",
       "      <td>0.00</td>\n",
       "      <td>199207.720</td>\n",
       "      <td>132047.090</td>\n",
       "      <td>0.000000</td>\n",
       "      <td>0.000000</td>\n",
       "    </tr>\n",
       "    <tr>\n",
       "      <th>580</th>\n",
       "      <td>5496.38</td>\n",
       "      <td>5496.38</td>\n",
       "      <td>5496.38</td>\n",
       "      <td>201004.330</td>\n",
       "      <td>129808.130</td>\n",
       "      <td>85.000000</td>\n",
       "      <td>10580.000000</td>\n",
       "    </tr>\n",
       "    <tr>\n",
       "      <th>581</th>\n",
       "      <td>9127.53</td>\n",
       "      <td>9127.53</td>\n",
       "      <td>9127.53</td>\n",
       "      <td>199733.890</td>\n",
       "      <td>126466.820</td>\n",
       "      <td>72.000000</td>\n",
       "      <td>8254.000000</td>\n",
       "    </tr>\n",
       "    <tr>\n",
       "      <th>582</th>\n",
       "      <td>9127.53</td>\n",
       "      <td>9127.53</td>\n",
       "      <td>9127.53</td>\n",
       "      <td>199733.890</td>\n",
       "      <td>126676.550</td>\n",
       "      <td>48.000000</td>\n",
       "      <td>5502.666667</td>\n",
       "    </tr>\n",
       "    <tr>\n",
       "      <th>583</th>\n",
       "      <td>10426.02</td>\n",
       "      <td>10426.02</td>\n",
       "      <td>10426.02</td>\n",
       "      <td>199434.380</td>\n",
       "      <td>132368.040</td>\n",
       "      <td>44.000000</td>\n",
       "      <td>4920.000000</td>\n",
       "    </tr>\n",
       "    <tr>\n",
       "      <th>...</th>\n",
       "      <td>...</td>\n",
       "      <td>...</td>\n",
       "      <td>...</td>\n",
       "      <td>...</td>\n",
       "      <td>...</td>\n",
       "      <td>...</td>\n",
       "      <td>...</td>\n",
       "    </tr>\n",
       "    <tr>\n",
       "      <th>666</th>\n",
       "      <td>47401.04</td>\n",
       "      <td>87199.22</td>\n",
       "      <td>181480.89</td>\n",
       "      <td>415850.402</td>\n",
       "      <td>262340.112</td>\n",
       "      <td>75.200000</td>\n",
       "      <td>8740.500000</td>\n",
       "    </tr>\n",
       "    <tr>\n",
       "      <th>667</th>\n",
       "      <td>49458.66</td>\n",
       "      <td>89687.09</td>\n",
       "      <td>184533.57</td>\n",
       "      <td>419634.812</td>\n",
       "      <td>277752.592</td>\n",
       "      <td>75.433333</td>\n",
       "      <td>8820.833333</td>\n",
       "    </tr>\n",
       "    <tr>\n",
       "      <th>668</th>\n",
       "      <td>59242.67</td>\n",
       "      <td>105930.97</td>\n",
       "      <td>198559.00</td>\n",
       "      <td>442976.132</td>\n",
       "      <td>277628.742</td>\n",
       "      <td>78.700000</td>\n",
       "      <td>9267.233333</td>\n",
       "    </tr>\n",
       "    <tr>\n",
       "      <th>669</th>\n",
       "      <td>56973.48</td>\n",
       "      <td>102381.81</td>\n",
       "      <td>193273.61</td>\n",
       "      <td>444539.502</td>\n",
       "      <td>293183.112</td>\n",
       "      <td>80.766667</td>\n",
       "      <td>9377.100000</td>\n",
       "    </tr>\n",
       "    <tr>\n",
       "      <th>670</th>\n",
       "      <td>59151.62</td>\n",
       "      <td>103743.15</td>\n",
       "      <td>196386.06</td>\n",
       "      <td>435410.282</td>\n",
       "      <td>299139.572</td>\n",
       "      <td>81.333333</td>\n",
       "      <td>9372.833333</td>\n",
       "    </tr>\n",
       "  </tbody>\n",
       "</table>\n",
       "<p>92 rows × 7 columns</p>\n",
       "</div>"
      ],
      "text/plain": [
       "     previous_7  previous_14  previous_28  previous_70  previous_year  \\\n",
       "579        0.00         0.00         0.00   199207.720     132047.090   \n",
       "580     5496.38      5496.38      5496.38   201004.330     129808.130   \n",
       "581     9127.53      9127.53      9127.53   199733.890     126466.820   \n",
       "582     9127.53      9127.53      9127.53   199733.890     126676.550   \n",
       "583    10426.02     10426.02     10426.02   199434.380     132368.040   \n",
       "..          ...          ...          ...          ...            ...   \n",
       "666    47401.04     87199.22    181480.89   415850.402     262340.112   \n",
       "667    49458.66     89687.09    184533.57   419634.812     277752.592   \n",
       "668    59242.67    105930.97    198559.00   442976.132     277628.742   \n",
       "669    56973.48    102381.81    193273.61   444539.502     293183.112   \n",
       "670    59151.62    103743.15    196386.06   435410.282     299139.572   \n",
       "\n",
       "     recent_invoices  recent_views  \n",
       "579         0.000000      0.000000  \n",
       "580        85.000000  10580.000000  \n",
       "581        72.000000   8254.000000  \n",
       "582        48.000000   5502.666667  \n",
       "583        44.000000   4920.000000  \n",
       "..               ...           ...  \n",
       "666        75.200000   8740.500000  \n",
       "667        75.433333   8820.833333  \n",
       "668        78.700000   9267.233333  \n",
       "669        80.766667   9377.100000  \n",
       "670        81.333333   9372.833333  \n",
       "\n",
       "[92 rows x 7 columns]"
      ]
     },
     "execution_count": 73,
     "metadata": {},
     "output_type": "execute_result"
    }
   ],
   "source": [
    "df_features_production"
   ]
  },
  {
   "cell_type": "markdown",
   "metadata": {},
   "source": [
    "#### prophet（時系列回帰）"
   ]
  },
  {
   "cell_type": "code",
   "execution_count": 74,
   "metadata": {},
   "outputs": [],
   "source": [
    "from fbprophet import Prophet"
   ]
  },
  {
   "cell_type": "code",
   "execution_count": 75,
   "metadata": {},
   "outputs": [],
   "source": [
    "# 入力用のデータフレーム作成\n",
    "df_input = pd.DataFrame()\n",
    "# 元データそのまま\n",
    "# df_input[\"ds\"] = df_train[\"date\"]\n",
    "# df_input[\"y\"] = df_train[\"revenue\"]\n",
    "# engineer_features を通した後\n",
    "df_input[\"ds\"] = dates\n",
    "df_input[\"y\"] = y"
   ]
  },
  {
   "cell_type": "code",
   "execution_count": 76,
   "metadata": {},
   "outputs": [
    {
     "data": {
      "text/plain": [
       "<fbprophet.forecaster.Prophet at 0x1e72c03d880>"
      ]
     },
     "execution_count": 76,
     "metadata": {},
     "output_type": "execute_result"
    }
   ],
   "source": [
    "# モデルの適用\n",
    "model = Prophet(growth=\"linear\", daily_seasonality=True, yearly_seasonality=True, weekly_seasonality=True)\n",
    "model.add_seasonality(name=\"monthly\", period=30, fourier_order=5)\n",
    "model.fit(df_input)"
   ]
  },
  {
   "cell_type": "code",
   "execution_count": 78,
   "metadata": {},
   "outputs": [
    {
     "data": {
      "image/png": "[encoded data removed]",
      "text/plain": [
       "<Figure size 720x432 with 1 Axes>"
      ]
     },
     "metadata": {},
     "output_type": "display_data"
    }
   ],
   "source": [
    "# 表示\n",
    "future = model.make_future_dataframe(periods=155)\n",
    "forecast = model.predict(future)\n",
    "model.plot(forecast)\n",
    "# 実際の値を赤点でプロット\n",
    "plt.scatter(dates_production, y_production, s=0.1, c=\"red\")\n",
    "plt.show()"
   ]
  },
  {
   "cell_type": "code",
   "execution_count": null,
   "metadata": {},
   "outputs": [],
   "source": []
  },
  {
   "cell_type": "markdown",
   "metadata": {},
   "source": [
    "#### tpot（ランダムフォレスト, 勾配ブースティング）"
   ]
  },
  {
   "cell_type": "code",
   "execution_count": 91,
   "metadata": {},
   "outputs": [],
   "source": [
    "from tpot import TPOTRegressor"
   ]
  },
  {
   "cell_type": "code",
   "execution_count": 92,
   "metadata": {},
   "outputs": [
    {
     "name": "stdout",
     "output_type": "stream",
     "text": [
      "Warning: xgboost.XGBRegressor is not available and will not be used by TPOT.\n"
     ]
    },
    {
     "name": "stderr",
     "output_type": "stream",
     "text": [
      "Version 0.11.5 of tpot is outdated. Version 0.11.6 was released 6 days ago.\n"
     ]
    },
    {
     "data": {
      "application/vnd.jupyter.widget-view+json": {
       "model_id": "0423f05e2b0540cea7c9a6c2ffca2d24",
       "version_major": 2,
       "version_minor": 0
      },
      "text/plain": [
       "HBox(children=(HTML(value='Optimization Progress'), FloatProgress(value=0.0, max=300.0), HTML(value='')))"
      ]
     },
     "metadata": {},
     "output_type": "display_data"
    },
    {
     "name": "stdout",
     "output_type": "stream",
     "text": [
      "\n",
      "Generation 1 - Current best internal CV score: -5449051358.122638\n",
      "Generation 2 - Current best internal CV score: -5449051358.122638\n",
      "Generation 3 - Current best internal CV score: -5407905578.661844\n",
      "Generation 4 - Current best internal CV score: -5407905578.661844\n",
      "Generation 5 - Current best internal CV score: -5388675981.879474\n",
      "Best pipeline: AdaBoostRegressor(SelectFwe(input_matrix, alpha=0.026000000000000002), learning_rate=0.01, loss=square, n_estimators=100)\n"
     ]
    },
    {
     "data": {
      "text/plain": [
       "TPOTRegressor(generations=5,\n",
       "              log_file=<ipykernel.iostream.OutStream object at 0x000001E7195E8550>,\n",
       "              population_size=50, random_state=42, verbosity=2)"
      ]
     },
     "execution_count": 92,
     "metadata": {},
     "output_type": "execute_result"
    }
   ],
   "source": [
    "# tpot で最適化\n",
    "tpot = TPOTRegressor(generations=5, population_size=50, verbosity=2, random_state=42, n_jobs=-1)\n",
    "tpot.fit(df_features, y)"
   ]
  },
  {
   "cell_type": "code",
   "execution_count": 93,
   "metadata": {},
   "outputs": [
    {
     "data": {
      "text/plain": [
       "Pipeline(steps=[('selectfwe',\n",
       "                 SelectFwe(alpha=0.026000000000000002,\n",
       "                           score_func=<function f_regression at 0x000001E721BBD430>)),\n",
       "                ('adaboostregressor',\n",
       "                 AdaBoostRegressor(learning_rate=0.01, loss='square',\n",
       "                                   n_estimators=100, random_state=42))])"
      ]
     },
     "execution_count": 93,
     "metadata": {},
     "output_type": "execute_result"
    }
   ],
   "source": [
    "# 作成した pipeline\n",
    "tpot.fitted_pipeline_"
   ]
  },
  {
   "cell_type": "code",
   "execution_count": 94,
   "metadata": {},
   "outputs": [],
   "source": [
    "# 予測\n",
    "result_predict_tpot = tpot.predict(df_features_production)"
   ]
  },
  {
   "cell_type": "code",
   "execution_count": 95,
   "metadata": {},
   "outputs": [],
   "source": [
    "# 予測結果をデータに加えて可視化\n",
    "# 学習に使用した日付とその値\n",
    "df_tmp = pd.DataFrame([dates, y]).T\n",
    "# テストに使用した日付とその予測値\n",
    "df_result_predict = pd.DataFrame([dates_production, result_predict_tpot]).T\n",
    "# 線で表示するデータ群\n",
    "df_line = pd.concat([df_tmp, df_result_predict]).rename(columns={0:\"dates\", 1:\"y\"})"
   ]
  },
  {
   "cell_type": "code",
   "execution_count": 96,
   "metadata": {},
   "outputs": [
    {
     "data": {
      "text/html": [
       "<div>\n",
       "<style scoped>\n",
       "    .dataframe tbody tr th:only-of-type {\n",
       "        vertical-align: middle;\n",
       "    }\n",
       "\n",
       "    .dataframe tbody tr th {\n",
       "        vertical-align: top;\n",
       "    }\n",
       "\n",
       "    .dataframe thead th {\n",
       "        text-align: right;\n",
       "    }\n",
       "</style>\n",
       "<table border=\"1\" class=\"dataframe\">\n",
       "  <thead>\n",
       "    <tr style=\"text-align: right;\">\n",
       "      <th></th>\n",
       "      <th>dates</th>\n",
       "      <th>y</th>\n",
       "    </tr>\n",
       "  </thead>\n",
       "  <tbody>\n",
       "    <tr>\n",
       "      <th>0</th>\n",
       "      <td>2017-11-29</td>\n",
       "      <td>173960</td>\n",
       "    </tr>\n",
       "    <tr>\n",
       "      <th>1</th>\n",
       "      <td>2017-11-30</td>\n",
       "      <td>160737</td>\n",
       "    </tr>\n",
       "    <tr>\n",
       "      <th>2</th>\n",
       "      <td>2017-12-01</td>\n",
       "      <td>147795</td>\n",
       "    </tr>\n",
       "    <tr>\n",
       "      <th>3</th>\n",
       "      <td>2017-12-02</td>\n",
       "      <td>138632</td>\n",
       "    </tr>\n",
       "    <tr>\n",
       "      <th>4</th>\n",
       "      <td>2017-12-03</td>\n",
       "      <td>139305</td>\n",
       "    </tr>\n",
       "    <tr>\n",
       "      <th>...</th>\n",
       "      <td>...</td>\n",
       "      <td>...</td>\n",
       "    </tr>\n",
       "    <tr>\n",
       "      <th>87</th>\n",
       "      <td>2019-10-27</td>\n",
       "      <td>191618</td>\n",
       "    </tr>\n",
       "    <tr>\n",
       "      <th>88</th>\n",
       "      <td>2019-10-28</td>\n",
       "      <td>195408</td>\n",
       "    </tr>\n",
       "    <tr>\n",
       "      <th>89</th>\n",
       "      <td>2019-10-29</td>\n",
       "      <td>199472</td>\n",
       "    </tr>\n",
       "    <tr>\n",
       "      <th>90</th>\n",
       "      <td>2019-10-30</td>\n",
       "      <td>199472</td>\n",
       "    </tr>\n",
       "    <tr>\n",
       "      <th>91</th>\n",
       "      <td>2019-10-31</td>\n",
       "      <td>199472</td>\n",
       "    </tr>\n",
       "  </tbody>\n",
       "</table>\n",
       "<p>641 rows × 2 columns</p>\n",
       "</div>"
      ],
      "text/plain": [
       "        dates       y\n",
       "0  2017-11-29  173960\n",
       "1  2017-11-30  160737\n",
       "2  2017-12-01  147795\n",
       "3  2017-12-02  138632\n",
       "4  2017-12-03  139305\n",
       "..        ...     ...\n",
       "87 2019-10-27  191618\n",
       "88 2019-10-28  195408\n",
       "89 2019-10-29  199472\n",
       "90 2019-10-30  199472\n",
       "91 2019-10-31  199472\n",
       "\n",
       "[641 rows x 2 columns]"
      ]
     },
     "execution_count": 96,
     "metadata": {},
     "output_type": "execute_result"
    }
   ],
   "source": [
    "df_line"
   ]
  },
  {
   "cell_type": "code",
   "execution_count": 97,
   "metadata": {},
   "outputs": [
    {
     "data": {
      "image/png": "[encoded data removed]",
      "text/plain": [
       "<Figure size 432x288 with 1 Axes>"
      ]
     },
     "metadata": {
      "needs_background": "light"
     },
     "output_type": "display_data"
    }
   ],
   "source": [
    "# 表示\n",
    "plt.plot(df_line[\"dates\"], df_line[\"y\"])\n",
    "plt.show()"
   ]
  },
  {
   "cell_type": "code",
   "execution_count": null,
   "metadata": {},
   "outputs": [],
   "source": [
    "# 作成したモデルの書き出し\n",
    "tpot.export('tpot_pipeline.py')"
   ]
  },
  {
   "cell_type": "markdown",
   "metadata": {},
   "source": [
    "#### GPy（ガウス過程）"
   ]
  },
  {
   "cell_type": "code",
   "execution_count": null,
   "metadata": {},
   "outputs": [],
   "source": [
    "import gpy"
   ]
  },
  {
   "cell_type": "code",
   "execution_count": null,
   "metadata": {},
   "outputs": [],
   "source": []
  },
  {
   "cell_type": "markdown",
   "metadata": {},
   "source": [
    "#### 状態空間モデル"
   ]
  },
  {
   "cell_type": "code",
   "execution_count": null,
   "metadata": {},
   "outputs": [],
   "source": []
  },
  {
   "cell_type": "markdown",
   "metadata": {},
   "source": [
    "### 3.Re-train your model on all of the data using the selected approach and prepare it for deployment.（選択したアプローチを使用して、すべてのデータでモデルを再トレーニングし、展開の準備をします。）"
   ]
  },
  {
   "cell_type": "code",
   "execution_count": null,
   "metadata": {},
   "outputs": [],
   "source": []
  },
  {
   "cell_type": "code",
   "execution_count": null,
   "metadata": {},
   "outputs": [],
   "source": []
  },
  {
   "cell_type": "markdown",
   "metadata": {},
   "source": [
    "### 4.Articulate your findings in a summary report.（要約レポートで調査結果を明確にします。）"
   ]
  },
  {
   "cell_type": "code",
   "execution_count": null,
   "metadata": {},
   "outputs": [],
   "source": []
  },
  {
   "cell_type": "code",
   "execution_count": null,
   "metadata": {},
   "outputs": [],
   "source": []
  },
  {
   "cell_type": "code",
   "execution_count": null,
   "metadata": {},
   "outputs": [],
   "source": []
  },
  {
   "cell_type": "code",
   "execution_count": null,
   "metadata": {},
   "outputs": [],
   "source": []
  },
  {
   "cell_type": "code",
   "execution_count": null,
   "metadata": {},
   "outputs": [],
   "source": []
  }
 ],
 "metadata": {
  "kernelspec": {
   "display_name": "Python 3",
   "language": "python",
   "name": "python3"
  },
  "language_info": {
   "codemirror_mode": {
    "name": "ipython",
    "version": 3
   },
   "file_extension": ".py",
   "mimetype": "text/x-python",
   "name": "python",
   "nbconvert_exporter": "python",
   "pygments_lexer": "ipython3",
   "version": "3.8.5"
  }
 },
 "nbformat": 4,
 "nbformat_minor": 4
}

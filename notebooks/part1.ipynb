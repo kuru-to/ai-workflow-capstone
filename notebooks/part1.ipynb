{
 "cells": [
  {
   "cell_type": "markdown",
   "metadata": {},
   "source": [
    "# Part 1"
   ]
  },
  {
   "cell_type": "markdown",
   "metadata": {},
   "source": [
    "## やること"
   ]
  },
  {
   "cell_type": "markdown",
   "metadata": {},
   "source": [
    "1. Assimilate the business scenario and articulate testable hypotheses.（ビジネスシナリオを同化し、テスト可能な仮説を明確にします。）\n",
    "2. State the ideal data to address the business opportunity and clarify the rationale for needing specific data.（ビジネスチャンスに対処するための理想的なデータを述べ、特定のデータが必要な理由を明確にします。）\n",
    "3. Create a python script to extract relevant data from multiple data sources, automating the process of data ingestion.（複数のデータソースから関連データを抽出するPythonスクリプトを作成し、データの取り込みプロセスを自動化します。）\n",
    "4. Investigate the relationship between the relevant data, the target and the business metric.（関連するデータ、ターゲット、およびビジネス指標の間の関係を調査します。）\n",
    "5. Articulate your findings using a deliverable with visualizations.（視覚化された成果物を使用して、調査結果を明確にします。）"
   ]
  },
  {
   "cell_type": "markdown",
   "metadata": {},
   "source": [
    "## Our Story"
   ]
  },
  {
   "cell_type": "markdown",
   "metadata": {},
   "source": [
    "Recently at AAVAIL there has been discussion among management about different approaches to revenue generation. AAVAIL launched using a tiered, subscription-based service which showed promise, but conversations with users, especially those outside of US markets, prompted an experiment using an à la carte approach. This experiment was carried out mostly outside of the US and there are now a couple of years of data with a few thousand active users. The data are transaction-level purchases across 38 different countries and are invoiced in batches. Management has nearly decided to make the switch to the new model, but they find it difficult to predict monthly revenue. They have asked you to create a service that, at any point in time, will predict the revenue for the following month. They have also asked that the service be given the ability to project revenue for a specific country. To keep the development time reasonable you have been advised to limit your model to the ten countries with the most revenue.\n",
    "\n",
    "You have spoken at length with the managers who will be the end users of this model and they are confident that this product will have a meaningful business impact. Currently, these managers are using their own methods to predict revenue, but they have come to feel that they are spending too much time on this and their lack of expertise in data science means their predictions are not as accurate as they would like. The management team expects to spend less time creating their own projection models, and they expect the new results to be more accurate. They have assured you that well-projected numbers will help stabilize staffing and budget projections which will have a beneficial ripple effect throughout the company."
   ]
  },
  {
   "cell_type": "markdown",
   "metadata": {},
   "source": [
    "### 和訳"
   ]
  },
  {
   "cell_type": "markdown",
   "metadata": {},
   "source": [
    "最近AAVAILで、収益創出へのさまざまなアプローチについて経営陣の間で議論がありました。 AAVAILは、有望な段階的なサブスクリプションベースのサービスを使用して開始されましたが、ユーザー、特に米国市場以外のユーザーとの会話により、アラカルトアプローチを使用した実験が行われました。この実験は主に米国外で実施され、現在、数千人のアクティブユーザーがいる数年のデータがあります。データは38か国にわたるトランザクションレベルの購入であり、バッチで請求されます。経営陣は新しいモデルへの切り替えをほぼ決定しましたが、月間収益を予測することは困難です。彼らは、いつでも翌月の収益を予測するサービスを作成するように依頼しました。彼らはまた、サービスに特定の国の収益を予測する機能を与えるように求めています。開発時間を合理的に保つために、モデルを最も収益の高い10か国に限定することをお勧めします。\n",
    "\n",
    "このモデルのエンドユーザーとなるマネージャーと長々と話をしましたが、彼らはこの製品がビジネスに有意義な影響を与えると確信しています。 現在、これらのマネージャーは独自の方法で収益を予測していますが、これに多くの時間を費やしていると感じており、データサイエンスの専門知識が不足しているため、予測が思ったほど正確ではありません。 管理チームは、独自の予測モデルの作成に費やす時間が少なくて済み、新しい結果がより正確になることを期待しています。 彼らは、よく予測された数が人員配置と予算予測を安定させるのに役立ち、会社全体に有益な波及効果をもたらすことを保証しました。"
   ]
  },
  {
   "cell_type": "markdown",
   "metadata": {},
   "source": [
    "## import packages"
   ]
  },
  {
   "cell_type": "code",
   "execution_count": 1,
   "metadata": {},
   "outputs": [],
   "source": [
    "import sys\n",
    "sys.path.append(\"../solution-guidance/\")\n",
    "import cslib"
   ]
  },
  {
   "cell_type": "markdown",
   "metadata": {},
   "source": [
    "## parameter settings"
   ]
  },
  {
   "cell_type": "code",
   "execution_count": 3,
   "metadata": {},
   "outputs": [],
   "source": [
    "path_data = \"../data/\"\n",
    "path_data_production = path_data + \"cs-production/\"\n",
    "path_data_train = path_data + \"cs-train/\""
   ]
  },
  {
   "cell_type": "markdown",
   "metadata": {},
   "source": [
    "## 問題と回答"
   ]
  },
  {
   "cell_type": "markdown",
   "metadata": {},
   "source": [
    "### 1.Assimilate the business scenario and articulate testable hypotheses.（ビジネスシナリオを同化し、テスト可能な仮説を明確にします。）"
   ]
  },
  {
   "cell_type": "markdown",
   "metadata": {},
   "source": [
    "#### 説明"
   ]
  },
  {
   "cell_type": "markdown",
   "metadata": {},
   "source": [
    "Take what you have read from the stories and from what you know about the business scenario and, in your own words, carefully re-state the business opportunity. Given the stated opportunity, enumerate the testable hypotheses.\n",
    "\n",
    "ストーリーやビジネスシナリオについて知っていることから読んだことを取り入れ、自分の言葉で、ビジネスチャンスを注意深く言い直してください。 述べられた機会を前提として、検証可能な仮説を列挙します。"
   ]
  },
  {
   "cell_type": "markdown",
   "metadata": {},
   "source": [
    "#### 回答"
   ]
  },
  {
   "cell_type": "markdown",
   "metadata": {},
   "source": [
    "- 翌月の収益が精度よく予測できるようになれば、会社全体にとって有益となる\n",
    "- 関連する指標と同時に収益は上昇 or 下降する\n",
    "- 週ごとに収益の傾向は同じになる"
   ]
  },
  {
   "cell_type": "markdown",
   "metadata": {},
   "source": [
    "### 2.State the ideal data to address the business opportunity and clarify the rationale for needing specific data.（ビジネスチャンスに対処するための理想的なデータを述べ、特定のデータが必要な理由を明確にします。）"
   ]
  },
  {
   "cell_type": "markdown",
   "metadata": {},
   "source": [
    "#### 説明"
   ]
  },
  {
   "cell_type": "markdown",
   "metadata": {},
   "source": [
    "Note that this step is carried out **before you read in the data**. It helps clarify exactly what your are looking for in the data and it helps provide context for what the feature matrix and targets will look like.\n",
    "\n",
    "このステップは、データを読み込む前に実行されることに注意してください。 これは、データで探しているものを正確に明確にするのに役立ち、機能マトリックスとターゲットがどのように見えるかについてのコンテキストを提供するのに役立ちます。"
   ]
  },
  {
   "cell_type": "markdown",
   "metadata": {},
   "source": [
    "#### 回答"
   ]
  },
  {
   "cell_type": "markdown",
   "metadata": {},
   "source": [
    "##### the ideal data to address the business opportunity\n",
    "- 過去2年以上の月ごとの収益データ\n",
    "- 収益に関連しそうな内部・外部データ\n",
    "\n",
    "##### the rationale for needing specific data\n",
    "- 1年ごとの傾向がつかめれば翌年の同じ月の収益を予測できる\n",
    "- 収益に関連しそうなデータであれば回帰が可能"
   ]
  },
  {
   "cell_type": "markdown",
   "metadata": {},
   "source": [
    "### 3.Create a python script to extract relevant data from multiple data sources, automating the process of data ingestion.（複数のデータソースから関連データを抽出するPythonスクリプトを作成し、データの取り込みプロセスを自動化します。）"
   ]
  },
  {
   "cell_type": "markdown",
   "metadata": {},
   "source": [
    "#### 説明"
   ]
  },
  {
   "cell_type": "markdown",
   "metadata": {},
   "source": [
    "From within a Python module there should be a function that reads in the data, attempts to catch common input errors and returns a feature matrix (NumPy array or Pandas DataFrame) that will subsequently be used as a starting point for EDA and modeling.\n",
    "\n",
    "Pythonモジュール内から、データを読み込み、一般的な入力エラーをキャッチしようとし、EDAとモデリングの開始点として後で使用される機能マトリックス（NumPy配列またはPandas DataFrame）を返す関数が必要です。"
   ]
  },
  {
   "cell_type": "markdown",
   "metadata": {},
   "source": [
    "#### 回答"
   ]
  },
  {
   "cell_type": "code",
   "execution_count": 4,
   "metadata": {},
   "outputs": [],
   "source": [
    "# 生データの取得\n",
    "df_raw = cslib.fetch_data(path_data_train)"
   ]
  },
  {
   "cell_type": "code",
   "execution_count": 5,
   "metadata": {},
   "outputs": [
    {
     "name": "stdout",
     "output_type": "stream",
     "text": [
      "... loading ts data from files\n"
     ]
    }
   ],
   "source": [
    "# 時系列にしたDataFrameを国ごとの辞書にする\n",
    "dct_df_time = cslib.fetch_ts(path_data_train)"
   ]
  },
  {
   "cell_type": "code",
   "execution_count": 6,
   "metadata": {},
   "outputs": [
    {
     "data": {
      "text/plain": [
       "dict_keys(['all', 'eire', 'france', 'germany', 'hong_kong', 'netherlands', 'norway', 'portugal', 'singapore', 'spain', 'united_kingdom'])"
      ]
     },
     "execution_count": 6,
     "metadata": {},
     "output_type": "execute_result"
    }
   ],
   "source": [
    "# 辞書のキー一覧\n",
    "dct_df_time.keys()"
   ]
  },
  {
   "cell_type": "code",
   "execution_count": 7,
   "metadata": {},
   "outputs": [
    {
     "data": {
      "text/html": [
       "<div>\n",
       "<style scoped>\n",
       "    .dataframe tbody tr th:only-of-type {\n",
       "        vertical-align: middle;\n",
       "    }\n",
       "\n",
       "    .dataframe tbody tr th {\n",
       "        vertical-align: top;\n",
       "    }\n",
       "\n",
       "    .dataframe thead th {\n",
       "        text-align: right;\n",
       "    }\n",
       "</style>\n",
       "<table border=\"1\" class=\"dataframe\">\n",
       "  <thead>\n",
       "    <tr style=\"text-align: right;\">\n",
       "      <th></th>\n",
       "      <th>date</th>\n",
       "      <th>purchases</th>\n",
       "      <th>unique_invoices</th>\n",
       "      <th>unique_streams</th>\n",
       "      <th>total_views</th>\n",
       "      <th>year_month</th>\n",
       "      <th>revenue</th>\n",
       "    </tr>\n",
       "  </thead>\n",
       "  <tbody>\n",
       "    <tr>\n",
       "      <th>28</th>\n",
       "      <td>2017-11-29</td>\n",
       "      <td>3277</td>\n",
       "      <td>133</td>\n",
       "      <td>1397</td>\n",
       "      <td>14159</td>\n",
       "      <td>2017-11</td>\n",
       "      <td>13411.96</td>\n",
       "    </tr>\n",
       "    <tr>\n",
       "      <th>29</th>\n",
       "      <td>2017-11-30</td>\n",
       "      <td>3002</td>\n",
       "      <td>150</td>\n",
       "      <td>1335</td>\n",
       "      <td>15766</td>\n",
       "      <td>2017-11</td>\n",
       "      <td>13290.25</td>\n",
       "    </tr>\n",
       "    <tr>\n",
       "      <th>30</th>\n",
       "      <td>2017-12-01</td>\n",
       "      <td>2559</td>\n",
       "      <td>107</td>\n",
       "      <td>1256</td>\n",
       "      <td>12524</td>\n",
       "      <td>2017-12</td>\n",
       "      <td>9687.28</td>\n",
       "    </tr>\n",
       "    <tr>\n",
       "      <th>31</th>\n",
       "      <td>2017-12-02</td>\n",
       "      <td>402</td>\n",
       "      <td>32</td>\n",
       "      <td>287</td>\n",
       "      <td>3313</td>\n",
       "      <td>2017-12</td>\n",
       "      <td>1443.26</td>\n",
       "    </tr>\n",
       "    <tr>\n",
       "      <th>32</th>\n",
       "      <td>2017-12-03</td>\n",
       "      <td>1942</td>\n",
       "      <td>90</td>\n",
       "      <td>977</td>\n",
       "      <td>8544</td>\n",
       "      <td>2017-12</td>\n",
       "      <td>6432.94</td>\n",
       "    </tr>\n",
       "    <tr>\n",
       "      <th>33</th>\n",
       "      <td>2017-12-04</td>\n",
       "      <td>2869</td>\n",
       "      <td>123</td>\n",
       "      <td>1354</td>\n",
       "      <td>12751</td>\n",
       "      <td>2017-12</td>\n",
       "      <td>13137.50</td>\n",
       "    </tr>\n",
       "    <tr>\n",
       "      <th>34</th>\n",
       "      <td>2017-12-05</td>\n",
       "      <td>2440</td>\n",
       "      <td>170</td>\n",
       "      <td>1196</td>\n",
       "      <td>12604</td>\n",
       "      <td>2017-12</td>\n",
       "      <td>9467.01</td>\n",
       "    </tr>\n",
       "  </tbody>\n",
       "</table>\n",
       "</div>"
      ],
      "text/plain": [
       "          date  purchases  unique_invoices  unique_streams  total_views  \\\n",
       "28  2017-11-29       3277              133            1397        14159   \n",
       "29  2017-11-30       3002              150            1335        15766   \n",
       "30  2017-12-01       2559              107            1256        12524   \n",
       "31  2017-12-02        402               32             287         3313   \n",
       "32  2017-12-03       1942               90             977         8544   \n",
       "33  2017-12-04       2869              123            1354        12751   \n",
       "34  2017-12-05       2440              170            1196        12604   \n",
       "\n",
       "   year_month   revenue  \n",
       "28    2017-11  13411.96  \n",
       "29    2017-11  13290.25  \n",
       "30    2017-12   9687.28  \n",
       "31    2017-12   1443.26  \n",
       "32    2017-12   6432.94  \n",
       "33    2017-12  13137.50  \n",
       "34    2017-12   9467.01  "
      ]
     },
     "execution_count": 7,
     "metadata": {},
     "output_type": "execute_result"
    }
   ],
   "source": [
    "# all の確認\n",
    "dct_df_time[\"all\"][28:35]"
   ]
  },
  {
   "cell_type": "code",
   "execution_count": 8,
   "metadata": {},
   "outputs": [
    {
     "data": {
      "text/plain": [
       "607"
      ]
     },
     "execution_count": 8,
     "metadata": {},
     "output_type": "execute_result"
    }
   ],
   "source": [
    "# 日数の確認\n",
    "len(dct_df_time[\"all\"])"
   ]
  },
  {
   "cell_type": "markdown",
   "metadata": {},
   "source": [
    "### 4.Investigate the relationship between the relevant data, the target and the business metric.（関連するデータ、ターゲット、およびビジネス指標の間の関係を調査します。）"
   ]
  },
  {
   "cell_type": "markdown",
   "metadata": {},
   "source": [
    "#### 説明"
   ]
  },
  {
   "cell_type": "markdown",
   "metadata": {},
   "source": [
    "Using the feature matrix and the tools abvailable to you through EDA spend some time to get to know the data.\n",
    "\n",
    "EDAを通じて利用できる特徴量行列とツールを使用して、データを理解するために時間を費やします。"
   ]
  },
  {
   "cell_type": "markdown",
   "metadata": {},
   "source": [
    "#### 回答"
   ]
  },
  {
   "cell_type": "code",
   "execution_count": 9,
   "metadata": {},
   "outputs": [
    {
     "data": {
      "text/plain": [
       "array(['United Kingdom', 'France', 'Belgium', 'Australia', 'USA', 'EIRE',\n",
       "       'Germany', 'Portugal', 'Japan', 'Denmark', 'Nigeria',\n",
       "       'Netherlands', 'Poland', 'Spain', 'Channel Islands', 'Italy',\n",
       "       'Cyprus', 'Greece', 'Norway', 'Austria', 'Sweden',\n",
       "       'United Arab Emirates', 'Finland', 'Switzerland', 'Unspecified',\n",
       "       'Malta', 'Bahrain', 'RSA', 'Bermuda', 'Hong Kong', 'Singapore',\n",
       "       'Thailand', 'Israel', 'Lithuania', 'West Indies', 'Lebanon',\n",
       "       'Korea', 'Brazil', 'Canada', 'Iceland', 'Saudi Arabia',\n",
       "       'Czech Republic', 'European Community'], dtype=object)"
      ]
     },
     "execution_count": 9,
     "metadata": {},
     "output_type": "execute_result"
    }
   ],
   "source": [
    "# 国の確認\n",
    "df_raw[\"country\"].unique()"
   ]
  },
  {
   "cell_type": "code",
   "execution_count": 10,
   "metadata": {},
   "outputs": [
    {
     "data": {
      "text/plain": [
       "array(['2017-11-28T00:00:00.000000000', '2019-07-31T00:00:00.000000000'],\n",
       "      dtype='datetime64[ns]')"
      ]
     },
     "execution_count": 10,
     "metadata": {},
     "output_type": "execute_result"
    }
   ],
   "source": [
    "# 対象の期間を確認\n",
    "df_raw[\"invoice_date\"].unique()[[0,-1]]"
   ]
  },
  {
   "cell_type": "code",
   "execution_count": 11,
   "metadata": {},
   "outputs": [
    {
     "data": {
      "text/html": [
       "<div>\n",
       "<style scoped>\n",
       "    .dataframe tbody tr th:only-of-type {\n",
       "        vertical-align: middle;\n",
       "    }\n",
       "\n",
       "    .dataframe tbody tr th {\n",
       "        vertical-align: top;\n",
       "    }\n",
       "\n",
       "    .dataframe thead th {\n",
       "        text-align: right;\n",
       "    }\n",
       "</style>\n",
       "<table border=\"1\" class=\"dataframe\">\n",
       "  <thead>\n",
       "    <tr style=\"text-align: right;\">\n",
       "      <th></th>\n",
       "      <th>country</th>\n",
       "      <th>price</th>\n",
       "    </tr>\n",
       "  </thead>\n",
       "  <tbody>\n",
       "    <tr>\n",
       "      <th>40</th>\n",
       "      <td>United Kingdom</td>\n",
       "      <td>3.521514e+06</td>\n",
       "    </tr>\n",
       "    <tr>\n",
       "      <th>11</th>\n",
       "      <td>EIRE</td>\n",
       "      <td>1.070692e+05</td>\n",
       "    </tr>\n",
       "    <tr>\n",
       "      <th>15</th>\n",
       "      <td>Germany</td>\n",
       "      <td>4.927182e+04</td>\n",
       "    </tr>\n",
       "    <tr>\n",
       "      <th>14</th>\n",
       "      <td>France</td>\n",
       "      <td>4.056514e+04</td>\n",
       "    </tr>\n",
       "    <tr>\n",
       "      <th>28</th>\n",
       "      <td>Norway</td>\n",
       "      <td>3.849475e+04</td>\n",
       "    </tr>\n",
       "    <tr>\n",
       "      <th>34</th>\n",
       "      <td>Spain</td>\n",
       "      <td>1.604099e+04</td>\n",
       "    </tr>\n",
       "    <tr>\n",
       "      <th>17</th>\n",
       "      <td>Hong Kong</td>\n",
       "      <td>1.445257e+04</td>\n",
       "    </tr>\n",
       "    <tr>\n",
       "      <th>30</th>\n",
       "      <td>Portugal</td>\n",
       "      <td>1.352867e+04</td>\n",
       "    </tr>\n",
       "    <tr>\n",
       "      <th>33</th>\n",
       "      <td>Singapore</td>\n",
       "      <td>1.317592e+04</td>\n",
       "    </tr>\n",
       "    <tr>\n",
       "      <th>26</th>\n",
       "      <td>Netherlands</td>\n",
       "      <td>1.232280e+04</td>\n",
       "    </tr>\n",
       "    <tr>\n",
       "      <th>3</th>\n",
       "      <td>Belgium</td>\n",
       "      <td>1.119061e+04</td>\n",
       "    </tr>\n",
       "    <tr>\n",
       "      <th>36</th>\n",
       "      <td>Switzerland</td>\n",
       "      <td>9.284050e+03</td>\n",
       "    </tr>\n",
       "    <tr>\n",
       "      <th>35</th>\n",
       "      <td>Sweden</td>\n",
       "      <td>7.876760e+03</td>\n",
       "    </tr>\n",
       "    <tr>\n",
       "      <th>7</th>\n",
       "      <td>Channel Islands</td>\n",
       "      <td>7.610120e+03</td>\n",
       "    </tr>\n",
       "    <tr>\n",
       "      <th>0</th>\n",
       "      <td>Australia</td>\n",
       "      <td>6.872630e+03</td>\n",
       "    </tr>\n",
       "    <tr>\n",
       "      <th>25</th>\n",
       "      <td>Malta</td>\n",
       "      <td>6.085340e+03</td>\n",
       "    </tr>\n",
       "    <tr>\n",
       "      <th>20</th>\n",
       "      <td>Italy</td>\n",
       "      <td>5.910190e+03</td>\n",
       "    </tr>\n",
       "    <tr>\n",
       "      <th>8</th>\n",
       "      <td>Cyprus</td>\n",
       "      <td>4.976300e+03</td>\n",
       "    </tr>\n",
       "    <tr>\n",
       "      <th>1</th>\n",
       "      <td>Austria</td>\n",
       "      <td>3.390890e+03</td>\n",
       "    </tr>\n",
       "    <tr>\n",
       "      <th>13</th>\n",
       "      <td>Finland</td>\n",
       "      <td>3.364650e+03</td>\n",
       "    </tr>\n",
       "    <tr>\n",
       "      <th>31</th>\n",
       "      <td>RSA</td>\n",
       "      <td>3.105750e+03</td>\n",
       "    </tr>\n",
       "    <tr>\n",
       "      <th>41</th>\n",
       "      <td>Unspecified</td>\n",
       "      <td>3.045360e+03</td>\n",
       "    </tr>\n",
       "    <tr>\n",
       "      <th>16</th>\n",
       "      <td>Greece</td>\n",
       "      <td>2.437370e+03</td>\n",
       "    </tr>\n",
       "    <tr>\n",
       "      <th>39</th>\n",
       "      <td>United Arab Emirates</td>\n",
       "      <td>2.400210e+03</td>\n",
       "    </tr>\n",
       "    <tr>\n",
       "      <th>10</th>\n",
       "      <td>Denmark</td>\n",
       "      <td>1.818510e+03</td>\n",
       "    </tr>\n",
       "    <tr>\n",
       "      <th>29</th>\n",
       "      <td>Poland</td>\n",
       "      <td>1.510710e+03</td>\n",
       "    </tr>\n",
       "    <tr>\n",
       "      <th>38</th>\n",
       "      <td>USA</td>\n",
       "      <td>1.185100e+03</td>\n",
       "    </tr>\n",
       "    <tr>\n",
       "      <th>21</th>\n",
       "      <td>Japan</td>\n",
       "      <td>1.083120e+03</td>\n",
       "    </tr>\n",
       "    <tr>\n",
       "      <th>6</th>\n",
       "      <td>Canada</td>\n",
       "      <td>1.053100e+03</td>\n",
       "    </tr>\n",
       "    <tr>\n",
       "      <th>18</th>\n",
       "      <td>Iceland</td>\n",
       "      <td>5.098600e+02</td>\n",
       "    </tr>\n",
       "    <tr>\n",
       "      <th>24</th>\n",
       "      <td>Lithuania</td>\n",
       "      <td>4.944100e+02</td>\n",
       "    </tr>\n",
       "    <tr>\n",
       "      <th>19</th>\n",
       "      <td>Israel</td>\n",
       "      <td>4.575900e+02</td>\n",
       "    </tr>\n",
       "    <tr>\n",
       "      <th>2</th>\n",
       "      <td>Bahrain</td>\n",
       "      <td>4.394900e+02</td>\n",
       "    </tr>\n",
       "    <tr>\n",
       "      <th>23</th>\n",
       "      <td>Lebanon</td>\n",
       "      <td>3.586100e+02</td>\n",
       "    </tr>\n",
       "    <tr>\n",
       "      <th>12</th>\n",
       "      <td>European Community</td>\n",
       "      <td>2.940500e+02</td>\n",
       "    </tr>\n",
       "    <tr>\n",
       "      <th>5</th>\n",
       "      <td>Brazil</td>\n",
       "      <td>2.563100e+02</td>\n",
       "    </tr>\n",
       "    <tr>\n",
       "      <th>37</th>\n",
       "      <td>Thailand</td>\n",
       "      <td>2.279700e+02</td>\n",
       "    </tr>\n",
       "    <tr>\n",
       "      <th>22</th>\n",
       "      <td>Korea</td>\n",
       "      <td>1.502400e+02</td>\n",
       "    </tr>\n",
       "    <tr>\n",
       "      <th>42</th>\n",
       "      <td>West Indies</td>\n",
       "      <td>1.227700e+02</td>\n",
       "    </tr>\n",
       "    <tr>\n",
       "      <th>27</th>\n",
       "      <td>Nigeria</td>\n",
       "      <td>1.092800e+02</td>\n",
       "    </tr>\n",
       "    <tr>\n",
       "      <th>4</th>\n",
       "      <td>Bermuda</td>\n",
       "      <td>8.470000e+01</td>\n",
       "    </tr>\n",
       "    <tr>\n",
       "      <th>9</th>\n",
       "      <td>Czech Republic</td>\n",
       "      <td>3.183000e+01</td>\n",
       "    </tr>\n",
       "    <tr>\n",
       "      <th>32</th>\n",
       "      <td>Saudi Arabia</td>\n",
       "      <td>2.411000e+01</td>\n",
       "    </tr>\n",
       "  </tbody>\n",
       "</table>\n",
       "</div>"
      ],
      "text/plain": [
       "                 country         price\n",
       "40        United Kingdom  3.521514e+06\n",
       "11                  EIRE  1.070692e+05\n",
       "15               Germany  4.927182e+04\n",
       "14                France  4.056514e+04\n",
       "28                Norway  3.849475e+04\n",
       "34                 Spain  1.604099e+04\n",
       "17             Hong Kong  1.445257e+04\n",
       "30              Portugal  1.352867e+04\n",
       "33             Singapore  1.317592e+04\n",
       "26           Netherlands  1.232280e+04\n",
       "3                Belgium  1.119061e+04\n",
       "36           Switzerland  9.284050e+03\n",
       "35                Sweden  7.876760e+03\n",
       "7        Channel Islands  7.610120e+03\n",
       "0              Australia  6.872630e+03\n",
       "25                 Malta  6.085340e+03\n",
       "20                 Italy  5.910190e+03\n",
       "8                 Cyprus  4.976300e+03\n",
       "1                Austria  3.390890e+03\n",
       "13               Finland  3.364650e+03\n",
       "31                   RSA  3.105750e+03\n",
       "41           Unspecified  3.045360e+03\n",
       "16                Greece  2.437370e+03\n",
       "39  United Arab Emirates  2.400210e+03\n",
       "10               Denmark  1.818510e+03\n",
       "29                Poland  1.510710e+03\n",
       "38                   USA  1.185100e+03\n",
       "21                 Japan  1.083120e+03\n",
       "6                 Canada  1.053100e+03\n",
       "18               Iceland  5.098600e+02\n",
       "24             Lithuania  4.944100e+02\n",
       "19                Israel  4.575900e+02\n",
       "2                Bahrain  4.394900e+02\n",
       "23               Lebanon  3.586100e+02\n",
       "12    European Community  2.940500e+02\n",
       "5                 Brazil  2.563100e+02\n",
       "37              Thailand  2.279700e+02\n",
       "22                 Korea  1.502400e+02\n",
       "42           West Indies  1.227700e+02\n",
       "27               Nigeria  1.092800e+02\n",
       "4                Bermuda  8.470000e+01\n",
       "9         Czech Republic  3.183000e+01\n",
       "32          Saudi Arabia  2.411000e+01"
      ]
     },
     "execution_count": 11,
     "metadata": {},
     "output_type": "execute_result"
    }
   ],
   "source": [
    "# 国ごとに購入金額を集計して確認する\n",
    "lst_groupby = [\"country\"]\n",
    "name_price = \"price\"\n",
    "df_raw.groupby(lst_groupby)[name_price].sum().reset_index().sort_values(name_price, ascending=False)"
   ]
  },
  {
   "cell_type": "markdown",
   "metadata": {},
   "source": [
    "### 5.Articulate your findings using a deliverable with visualizations.（視覚化された成果物を使用して、調査結果を明確にします。）"
   ]
  },
  {
   "cell_type": "markdown",
   "metadata": {},
   "source": [
    "#### 説明"
   ]
  },
  {
   "cell_type": "markdown",
   "metadata": {},
   "source": [
    "Summarize what you have learned in your investigations using visualizations.\n",
    "\n",
    "視覚化を使用して、調査で学んだことを要約します。"
   ]
  },
  {
   "cell_type": "markdown",
   "metadata": {},
   "source": [
    "#### 回答"
   ]
  },
  {
   "cell_type": "code",
   "execution_count": 14,
   "metadata": {},
   "outputs": [
    {
     "data": {
      "text/plain": [
       "<BarContainer object of 10 artists>"
      ]
     },
     "execution_count": 14,
     "metadata": {},
     "output_type": "execute_result"
    },
    {
     "data": {
      "image/png": "[encoded data removed]",
      "text/plain": [
       "<Figure size 1152x288 with 1 Axes>"
      ]
     },
     "metadata": {
      "needs_background": "light"
     },
     "output_type": "display_data"
    }
   ],
   "source": [
    "# 国ごとの売上金額上位10\n",
    "# これらに絞ることを決定\n",
    "lst_groupby = [\"country\"]\n",
    "name_price = \"price\"\n",
    "df_tmp = df_raw.groupby(lst_groupby)[name_price].sum().reset_index().sort_values(name_price, ascending=False)\n",
    "\n",
    "# 上位10位に絞る\n",
    "df_upper_10 = df_tmp[:10]\n",
    "\n",
    "# 棒グラフの表示\n",
    "left = df_upper_10[\"country\"]\n",
    "right = df_upper_10[name_price]\n",
    "cslib.plt.figure(figsize=(16, 4))\n",
    "cslib.plt.bar(left, right)"
   ]
  },
  {
   "cell_type": "markdown",
   "metadata": {},
   "source": [
    "対象期間は2017/11/28 ~ 2019/7/31, 本期間での総収益上位10位の国に絞ってモデルの構築を行います  \n",
    "収益では英国が 3,521,514 とずば抜けています"
   ]
  },
  {
   "cell_type": "markdown",
   "metadata": {},
   "source": [
    "以下、英国に絞ってデータの傾向を見ていきます"
   ]
  },
  {
   "cell_type": "code",
   "execution_count": 15,
   "metadata": {},
   "outputs": [],
   "source": [
    "# 英国が一番多いので今後使うことにする\n",
    "name_uk = \"united_kingdom\"\n",
    "# 英国のデータ\n",
    "df_uk = dct_df_time[name_uk]"
   ]
  },
  {
   "cell_type": "code",
   "execution_count": 38,
   "metadata": {},
   "outputs": [
    {
     "name": "stdout",
     "output_type": "stream",
     "text": [
      "purchases end.\n",
      "unique_invoices end.\n",
      "unique_streams end.\n",
      "total_views end.\n",
      "revenue end.\n"
     ]
    },
    {
     "data": {
      "image/png": "[encoded data removed]",
      "text/plain": [
       "<Figure size 1440x288 with 1 Axes>"
      ]
     },
     "metadata": {
      "needs_background": "light"
     },
     "output_type": "display_data"
    }
   ],
   "source": [
    "# 月ごとのデータの傾向を確認する\n",
    "name_month = \"year_month\"\n",
    "name_date = \"date\"\n",
    "# 月ごとに集計したデータ\n",
    "df = df_uk[df_uk[name_date]>=\"2017-12-01\"].groupby(name_month).mean().reset_index()\n",
    "\n",
    "# 表示対象の列リスト\n",
    "lst_show_columns = [\"purchases\", \"unique_invoices\", \"unique_streams\", \"total_views\", \"revenue\"]\n",
    "\n",
    "# 月ごとの各列の表示\n",
    "fig, ax = cslib.plt.subplots(figsize=(20, 4))\n",
    "for show_column in lst_show_columns:\n",
    "    ax.plot(df[name_month], df[show_column], label=show_column)\n",
    "    print(show_column + \" end.\")\n",
    "ax.legend()\n",
    "cslib.plt.show()"
   ]
  },
  {
   "cell_type": "markdown",
   "metadata": {},
   "source": [
    "revenue は基本的に total_views に追随しますが、2018年12月はtotal_views が前月に比べて少なくなっておりますが、revenue は高いままです。  \n",
    "また、2018年11月には purchases が他に比べて高くなっております。"
   ]
  },
  {
   "cell_type": "code",
   "execution_count": 41,
   "metadata": {},
   "outputs": [
    {
     "name": "stderr",
     "output_type": "stream",
     "text": [
      "c:\\users\\einosukeiida\\.virtualenvs\\ai-workflow-capstone-w4xzojd0\\lib\\site-packages\\ipykernel_launcher.py:5: SettingWithCopyWarning: \n",
      "A value is trying to be set on a copy of a slice from a DataFrame.\n",
      "Try using .loc[row_indexer,col_indexer] = value instead\n",
      "\n",
      "See the caveats in the documentation: https://pandas.pydata.org/pandas-docs/stable/user_guide/indexing.html#returning-a-view-versus-a-copy\n",
      "  \"\"\"\n"
     ]
    },
    {
     "name": "stdout",
     "output_type": "stream",
     "text": [
      "purchases end.\n",
      "unique_invoices end.\n",
      "unique_streams end.\n",
      "total_views end.\n",
      "revenue end.\n"
     ]
    },
    {
     "data": {
      "image/png": "[encoded data removed]",
      "text/plain": [
       "<Figure size 1440x288 with 1 Axes>"
      ]
     },
     "metadata": {
      "needs_background": "light"
     },
     "output_type": "display_data"
    }
   ],
   "source": [
    "# 週ごとに集計\n",
    "# 2017/11/28 から7日ごとに同じ周期の購入になることを確認する\n",
    "name_date = \"date\"\n",
    "df = df_uk[df_uk[name_date]>=\"2017-11-28\"]\n",
    "df[name_date] = cslib.pd.to_datetime(df[name_date])\n",
    "df = df.set_index(name_date).resample(\"W\").sum()\n",
    "\n",
    "# 表示対象の列リスト\n",
    "lst_show_columns = [\"purchases\", \"unique_invoices\", \"unique_streams\", \"total_views\", \"revenue\"]\n",
    "\n",
    "# 週ごとの各列の表示\n",
    "fig, ax = cslib.plt.subplots(figsize=(20, 4))\n",
    "for show_column in lst_show_columns:\n",
    "    ax.plot(df.index, df[show_column], label=show_column)\n",
    "    print(show_column + \" end.\")\n",
    "ax.legend()\n",
    "cslib.plt.show()"
   ]
  },
  {
   "cell_type": "markdown",
   "metadata": {},
   "source": [
    "週単位でみても revenue は total_views に追随しますが、落ち込んでいる週が存在することが見て取れます。"
   ]
  },
  {
   "cell_type": "code",
   "execution_count": 47,
   "metadata": {},
   "outputs": [
    {
     "name": "stderr",
     "output_type": "stream",
     "text": [
      "c:\\users\\einosukeiida\\.virtualenvs\\ai-workflow-capstone-w4xzojd0\\lib\\site-packages\\ipykernel_launcher.py:8: SettingWithCopyWarning: \n",
      "A value is trying to be set on a copy of a slice from a DataFrame.\n",
      "Try using .loc[row_indexer,col_indexer] = value instead\n",
      "\n",
      "See the caveats in the documentation: https://pandas.pydata.org/pandas-docs/stable/user_guide/indexing.html#returning-a-view-versus-a-copy\n",
      "  \n",
      "No handles with labels found to put in legend.\n"
     ]
    },
    {
     "data": {
      "image/png": "[encoded data removed]",
      "text/plain": [
       "<Figure size 1440x288 with 1 Axes>"
      ]
     },
     "metadata": {
      "needs_background": "light"
     },
     "output_type": "display_data"
    }
   ],
   "source": [
    "# 曜日で変化はあるのか確認\n",
    "# 表示対象の列\n",
    "name_show_column = \"revenue\"\n",
    "# 曜日のデータを紐づける\n",
    "name_date = \"date\"\n",
    "name_weekday = \"weekday\"\n",
    "df = df_uk[df_uk[name_date]>=\"2017-11-28\"]\n",
    "df[name_date] = cslib.pd.to_datetime(df[name_date])\n",
    "df = df.set_index(name_date)\n",
    "df[name_weekday] = df.index.weekday\n",
    "lst_weekday = df[name_weekday].unique()\n",
    "dct_weekday_lst_revenue = {weekday:df.loc[df[name_weekday]==weekday, name_show_column] for weekday in lst_weekday}\n",
    "\n",
    "# 曜日ごとに箱ひげ図を作成\n",
    "fig, ax = cslib.plt.subplots(figsize=(20, 4))\n",
    "data = (dct_weekday_lst_revenue[1]\n",
    "       , dct_weekday_lst_revenue[2]\n",
    "       , dct_weekday_lst_revenue[3]\n",
    "       , dct_weekday_lst_revenue[4]\n",
    "       , dct_weekday_lst_revenue[5]\n",
    "       , dct_weekday_lst_revenue[6]\n",
    "        , dct_weekday_lst_revenue[0]\n",
    "       )\n",
    "ax.boxplot(data)\n",
    "ax.set_xticklabels(lst_weekday)\n",
    "cslib.plt.xlabel(name_weekday)\n",
    "ax.legend()\n",
    "cslib.plt.show()"
   ]
  },
  {
   "cell_type": "markdown",
   "metadata": {},
   "source": [
    "曜日ごとに大きな違いはなさそうである。"
   ]
  },
  {
   "cell_type": "code",
   "execution_count": null,
   "metadata": {},
   "outputs": [],
   "source": []
  }
 ],
 "metadata": {
  "kernelspec": {
   "display_name": "Python 3",
   "language": "python",
   "name": "python3"
  },
  "language_info": {
   "codemirror_mode": {
    "name": "ipython",
    "version": 3
   },
   "file_extension": ".py",
   "mimetype": "text/x-python",
   "name": "python",
   "nbconvert_exporter": "python",
   "pygments_lexer": "ipython3",
   "version": "3.8.5"
  }
 },
 "nbformat": 4,
 "nbformat_minor": 4
}
